{
 "cells": [
  {
   "cell_type": "markdown",
   "metadata": {},
   "source": [
    "# Pytorch\n",
    " - Define-by-Run"
   ]
  },
  {
   "cell_type": "markdown",
   "metadata": {},
   "source": [
    "# Pytorch Packages\n",
    "\n",
    " - **torch**\n",
    " - torch.autograd\n",
    " - torch.nn\n",
    " - torch.optim\n",
    " - torch.multiprocessing\n",
    " - torch.utils\n",
    " - torch.legact"
   ]
  },
  {
   "cell_type": "markdown",
   "metadata": {},
   "source": [
    "# Pytorch Tensor Basic Usage\n",
    "\n",
    "- Create Tensor\n",
    "- Indexing, Joining, Slicing\n",
    "- Initialization\n",
    "- Math Operations"
   ]
  },
  {
   "cell_type": "markdown",
   "metadata": {},
   "source": [
    "## 1. Create Tensor"
   ]
  },
  {
   "cell_type": "markdown",
   "metadata": {},
   "source": [
    "### 1) random numbers"
   ]
  },
  {
   "cell_type": "code",
   "execution_count": 2,
   "metadata": {
    "ExecuteTime": {
     "end_time": "2018-10-28T08:41:16.573579Z",
     "start_time": "2018-10-28T08:41:16.262616Z"
    }
   },
   "outputs": [],
   "source": [
    "from __future__ import print_function\n",
    "import torch"
   ]
  },
  {
   "cell_type": "code",
   "execution_count": 29,
   "metadata": {
    "ExecuteTime": {
     "end_time": "2018-10-18T13:49:52.638893Z",
     "start_time": "2018-10-18T13:49:52.631452Z"
    }
   },
   "outputs": [
    {
     "data": {
      "text/plain": [
       "tensor([[0.7737, 0.6550, 0.2810],\n",
       "        [0.7215, 0.2243, 0.4761]])"
      ]
     },
     "execution_count": 29,
     "metadata": {},
     "output_type": "execute_result"
    }
   ],
   "source": [
    "# torch.rand(size)\n",
    "# 0~1 사이의 연속균등분포에서 값을 뽑아 5x3 텐서를 생성합니다. ~U(0,1)\n",
    "x = torch.rand(2,3)\n",
    "x"
   ]
  },
  {
   "cell_type": "code",
   "execution_count": 30,
   "metadata": {
    "ExecuteTime": {
     "end_time": "2018-10-18T13:49:53.118988Z",
     "start_time": "2018-10-18T13:49:53.110556Z"
    }
   },
   "outputs": [
    {
     "data": {
      "text/plain": [
       "tensor([[ 0.8413, -0.1285,  1.1922],\n",
       "        [ 1.9749,  0.1730,  2.0156]])"
      ]
     },
     "execution_count": 30,
     "metadata": {},
     "output_type": "execute_result"
    }
   ],
   "source": [
    "# torch.randn(size)\n",
    "# randn의 경우 평균은 0, 표준편차는 1인 정규분포에서 값을 가져옵니다. ~z(0,1)\n",
    "x = torch.randn(2,3)\n",
    "x"
   ]
  },
  {
   "cell_type": "code",
   "execution_count": 31,
   "metadata": {
    "ExecuteTime": {
     "end_time": "2018-10-18T13:49:53.762464Z",
     "start_time": "2018-10-18T13:49:53.757526Z"
    }
   },
   "outputs": [
    {
     "data": {
      "text/plain": [
       "tensor([2, 1, 3, 4, 0])"
      ]
     },
     "execution_count": 31,
     "metadata": {},
     "output_type": "execute_result"
    }
   ],
   "source": [
    "# torch.randperm(n)\n",
    "# 0부터 n-1까지 1씩 늘어나며 값을 랜덤으로 정렬합니다.\n",
    "x = torch.randperm(5)\n",
    "x"
   ]
  },
  {
   "cell_type": "markdown",
   "metadata": {},
   "source": [
    "### 2) empty, zeros, ones, arange, max"
   ]
  },
  {
   "cell_type": "code",
   "execution_count": 32,
   "metadata": {
    "ExecuteTime": {
     "end_time": "2018-10-18T13:49:54.685975Z",
     "start_time": "2018-10-18T13:49:54.681021Z"
    }
   },
   "outputs": [
    {
     "data": {
      "text/plain": [
       "tensor([[0.0000, 0.0000, 0.0000],\n",
       "        [0.0000, 0.0000, 0.0000]])"
      ]
     },
     "execution_count": 32,
     "metadata": {},
     "output_type": "execute_result"
    }
   ],
   "source": [
    "# torch.empty(size)\n",
    "# 원하는 크기의 빈 텐서를 생성합니다.\n",
    "x = torch.empty(2,3)\n",
    "x"
   ]
  },
  {
   "cell_type": "code",
   "execution_count": 33,
   "metadata": {
    "ExecuteTime": {
     "end_time": "2018-10-18T13:49:55.172440Z",
     "start_time": "2018-10-18T13:49:55.168472Z"
    }
   },
   "outputs": [
    {
     "data": {
      "text/plain": [
       "tensor([[0., 0., 0.],\n",
       "        [0., 0., 0.]])"
      ]
     },
     "execution_count": 33,
     "metadata": {},
     "output_type": "execute_result"
    }
   ],
   "source": [
    "# torch.zeros(size)\n",
    "# 원하는 크기의 빈 텐서를 생성합니다.\n",
    "x = torch.zeros(2,3)\n",
    "x"
   ]
  },
  {
   "cell_type": "code",
   "execution_count": 34,
   "metadata": {
    "ExecuteTime": {
     "end_time": "2018-10-18T13:49:55.722504Z",
     "start_time": "2018-10-18T13:49:55.718536Z"
    }
   },
   "outputs": [
    {
     "data": {
      "text/plain": [
       "tensor([[1., 1., 1.],\n",
       "        [1., 1., 1.]])"
      ]
     },
     "execution_count": 34,
     "metadata": {},
     "output_type": "execute_result"
    }
   ],
   "source": [
    "# torch.ones(size)\n",
    "# 원하는 크기의 1의 값을 가진 텐서를 생성합니다.\n",
    "x = torch.ones(2,3)\n",
    "x"
   ]
  },
  {
   "cell_type": "code",
   "execution_count": 35,
   "metadata": {
    "ExecuteTime": {
     "end_time": "2018-10-18T13:49:56.246613Z",
     "start_time": "2018-10-18T13:49:56.238677Z"
    }
   },
   "outputs": [
    {
     "data": {
      "text/plain": [
       "tensor([0.0000, 0.5000, 1.0000, 1.5000, 2.0000, 2.5000])"
      ]
     },
     "execution_count": 35,
     "metadata": {},
     "output_type": "execute_result"
    }
   ],
   "source": [
    "# torch.arange(start,end,step=1)\n",
    "# start값부터 end값 전까지 step만큼 더하며 텐서를 생성합니다.\n",
    "x = torch.arange(0,3,step=0.5)\n",
    "x"
   ]
  },
  {
   "cell_type": "code",
   "execution_count": 11,
   "metadata": {
    "ExecuteTime": {
     "end_time": "2018-10-28T08:43:56.357472Z",
     "start_time": "2018-10-28T08:43:56.348021Z"
    }
   },
   "outputs": [
    {
     "name": "stdout",
     "output_type": "stream",
     "text": [
      "tensor([[0.0811, 0.8639, 0.8585],\n",
      "        [0.4495, 0.9369, 0.6960]])\n",
      "tensor(0.9369)\n",
      "(tensor([0.4495, 0.9369, 0.8585]), tensor([1, 1, 0]))\n",
      "tensor([1, 1])\n"
     ]
    }
   ],
   "source": [
    "# torch.max(input, dim, keepdim=False, out=None) -> (Tensor, LongTensor)\n",
    "# tensor의 최대값을 산출합니다.\n",
    "\n",
    "x = torch.rand(2,3)\n",
    "print(x)\n",
    "\n",
    "# 최대값을 출력합니다.\n",
    "print(torch.max(x))\n",
    "\n",
    "# 해당 차원에서 최대값과 그 위치를 출력합니다.\n",
    "print(torch.max(x,1))\n",
    "\n",
    "# 위치를 출력합니다.\n",
    "print(torch.max(x,1)[1])"
   ]
  },
  {
   "cell_type": "markdown",
   "metadata": {},
   "source": [
    "### 3) Tensor Data Type"
   ]
  },
  {
   "cell_type": "markdown",
   "metadata": {},
   "source": [
    "| Data type               | dtype                                         | Tensor types                 |\n",
    "|:-------------------------|:-----------------------------------------------|:------------------------------|\n",
    "| 32-bit floating point   | ``` torch.float32 ``` or ``` torch.float ```  | ``` torch.*.FloatTensor ```  |\n",
    "| 64-bit floating point   | ``` torch.float64 ``` or ``` torch.double ``` | ``` torch.*.DoubleTensor ``` |\n",
    "| 16-bit floating point   | ``` torch.float16 ``` or ``` torch.half ```   | ``` torch.*.HalfTensor ```   |\n",
    "| 16-bit integer (signed) | ``` torch.int16 ``` or ``` torch.short ```    | ``` torch.*.ShortTensor ```  |\n",
    "| 32-bit integer (signed) | ``` torch.int32 ``` or ``` torch.int ```      | ``` torch.*.IntTensor ```    |\n",
    "| 64-bit integer (signed) | ``` torch.int64 ``` or ``` torch.long ```     | ``` torch.*.LongTensor ```   |"
   ]
  },
  {
   "cell_type": "code",
   "execution_count": 38,
   "metadata": {
    "ExecuteTime": {
     "end_time": "2018-10-18T13:50:14.106543Z",
     "start_time": "2018-10-18T13:50:14.100075Z"
    },
    "scrolled": true
   },
   "outputs": [
    {
     "name": "stdout",
     "output_type": "stream",
     "text": [
      "tensor([[0.0000, 0.0000, 0.0000],\n",
      "        [0.0000, 0.0000, 0.0000]])\n",
      "tensor([[0, 0, 0],\n",
      "        [0, 0, 0]])\n",
      "tensor([0.0000, 0.5000, 1.0000, 1.5000, 2.0000, 2.5000], dtype=torch.float64)\n"
     ]
    }
   ],
   "source": [
    "# torch.empty(size, dtype=)\n",
    "# torch.zeros(size, dtype=)\n",
    "# torch.arange(start,end,dtype=)\n",
    "\n",
    "# torch에서 지원하는 다양한 data type을 옵션으로 지정할 수 있습니다.\n",
    "\n",
    "x = torch.empty(2,3, dtype=torch.float)\n",
    "y = torch.zeros(2,3, dtype = torch.long)\n",
    "z = torch.arange(0,3,step=0.5,dtype=torch.double)\n",
    "\n",
    "print(x)\n",
    "print(y)\n",
    "print(z)"
   ]
  },
  {
   "cell_type": "code",
   "execution_count": 40,
   "metadata": {
    "ExecuteTime": {
     "end_time": "2018-10-18T13:52:45.755168Z",
     "start_time": "2018-10-18T13:52:45.748223Z"
    }
   },
   "outputs": [
    {
     "data": {
      "text/plain": [
       "tensor([5.5000, 3.0000])"
      ]
     },
     "execution_count": 40,
     "metadata": {},
     "output_type": "execute_result"
    }
   ],
   "source": [
    "# torch.tensor(size or list, dtype = torch.floattensor) \n",
    "# 원하는 텐서를 바로 생성합니다.\n",
    "x = torch.tensor([5.5,3])\n",
    "x"
   ]
  },
  {
   "cell_type": "code",
   "execution_count": 42,
   "metadata": {
    "ExecuteTime": {
     "end_time": "2018-10-18T14:01:15.180723Z",
     "start_time": "2018-10-18T14:01:15.174242Z"
    }
   },
   "outputs": [
    {
     "name": "stdout",
     "output_type": "stream",
     "text": [
      "tensor([[-0.0000,  0.0000,  0.0000],\n",
      "        [ 0.0000,  0.0000,  0.0000]])\n",
      "tensor([2., 3.])\n"
     ]
    }
   ],
   "source": [
    "# torch.FloatTensor(size or list)\n",
    "x = torch.FloatTensor(2,3)\n",
    "print(x)\n",
    "x = torch.FloatTensor([2,3])\n",
    "print(x)"
   ]
  },
  {
   "cell_type": "code",
   "execution_count": 43,
   "metadata": {
    "ExecuteTime": {
     "end_time": "2018-10-18T14:01:45.322911Z",
     "start_time": "2018-10-18T14:01:45.306086Z"
    }
   },
   "outputs": [
    {
     "data": {
      "text/plain": [
       "tensor([2, 3], dtype=torch.int32)"
      ]
     },
     "execution_count": 43,
     "metadata": {},
     "output_type": "execute_result"
    }
   ],
   "source": [
    "# tensor.type_as(tensor_type)\n",
    "# tensor 형 변환\n",
    "x = x.type_as(torch.IntTensor())\n",
    "x"
   ]
  },
  {
   "cell_type": "markdown",
   "metadata": {},
   "source": [
    "### 4) Tensor Size"
   ]
  },
  {
   "cell_type": "code",
   "execution_count": 48,
   "metadata": {
    "ExecuteTime": {
     "end_time": "2018-10-18T14:07:04.655354Z",
     "start_time": "2018-10-18T14:07:04.650890Z"
    }
   },
   "outputs": [
    {
     "name": "stdout",
     "output_type": "stream",
     "text": [
      "torch.Size([10, 12, 3, 3])\n",
      "10\n"
     ]
    }
   ],
   "source": [
    "# tensor.size()\n",
    "\n",
    "x = torch.FloatTensor(10,12,3,3)\n",
    "\n",
    "print(x.size()[:])\n",
    "print(x.size()[0])"
   ]
  },
  {
   "cell_type": "code",
   "execution_count": 40,
   "metadata": {
    "ExecuteTime": {
     "end_time": "2018-10-16T11:39:17.332380Z",
     "start_time": "2018-10-16T11:39:17.325443Z"
    }
   },
   "outputs": [
    {
     "name": "stdout",
     "output_type": "stream",
     "text": [
      "tensor([[1., 1., 1.],\n",
      "        [1., 1., 1.],\n",
      "        [1., 1., 1.],\n",
      "        [1., 1., 1.],\n",
      "        [1., 1., 1.]], dtype=torch.float64)\n",
      "tensor([[ 0.5949,  0.3606, -0.0697],\n",
      "        [-0.2124, -0.9243,  1.5786],\n",
      "        [ 1.2222,  2.4934,  0.2329],\n",
      "        [-0.6524, -0.3773,  0.1990],\n",
      "        [ 0.1745, -0.0725, -1.3324]])\n"
     ]
    }
   ],
   "source": [
    "x = x.new_ones(5,3, dtype=torch.double) #5,3 차원의 새로운 텐서를 생성합니다.\n",
    "print(x)\n",
    "\n",
    "x = torch.randn_like(x,dtype=torch.float) # 같은 size에서 랜덤한 숫자로 채워진 텐서를 생성합니다.\n",
    "print(x)"
   ]
  },
  {
   "cell_type": "markdown",
   "metadata": {},
   "source": [
    "## 2. Math Operations\n",
    "\n",
    "### 1) add, mul, div"
   ]
  },
  {
   "cell_type": "code",
   "execution_count": 50,
   "metadata": {
    "ExecuteTime": {
     "end_time": "2018-10-18T14:13:27.357191Z",
     "start_time": "2018-10-18T14:13:27.348772Z"
    }
   },
   "outputs": [
    {
     "data": {
      "text/plain": [
       "(tensor([[1., 2., 3.],\n",
       "         [4., 5., 6.]]), tensor([[1., 2., 3.],\n",
       "         [4., 5., 6.]]), tensor([[ 2.,  4.,  6.],\n",
       "         [ 8., 10., 12.]]), tensor([[ 2.,  4.,  6.],\n",
       "         [ 8., 10., 12.]]), tensor([[0., 0., 0.],\n",
       "         [0., 0., 0.]]))"
      ]
     },
     "execution_count": 50,
     "metadata": {},
     "output_type": "execute_result"
    }
   ],
   "source": [
    "# torch.add()\n",
    "# 텐서의 값끼리 더합니다.\n",
    "\n",
    "x1 = torch.FloatTensor([[1,2,3],[4,5,6]])\n",
    "x2 = torch.FloatTensor([[1,2,3],[4,5,6]])\n",
    "add = torch.add(x1, x2)\n",
    "\n",
    "x1,x2,add,x1+x2,x1-x2"
   ]
  },
  {
   "cell_type": "code",
   "execution_count": 59,
   "metadata": {
    "ExecuteTime": {
     "end_time": "2018-10-18T14:15:25.402829Z",
     "start_time": "2018-10-18T14:15:25.399357Z"
    },
    "scrolled": true
   },
   "outputs": [
    {
     "name": "stdout",
     "output_type": "stream",
     "text": [
      "tensor([[ 2.,  4.,  6.],\n",
      "        [ 8., 10., 12.]])\n"
     ]
    }
   ],
   "source": [
    "# out option은 결과로 받을 텐서를 지정합니다.\n",
    "# 없으면 알아서 만들어냅니다.\n",
    "\n",
    "torch.add(x1,x2,out=result) \n",
    "print(result)"
   ]
  },
  {
   "cell_type": "code",
   "execution_count": 43,
   "metadata": {
    "ExecuteTime": {
     "end_time": "2018-10-16T11:41:37.076027Z",
     "start_time": "2018-10-16T11:41:37.068067Z"
    }
   },
   "outputs": [
    {
     "data": {
      "text/plain": [
       "tensor([[[0.6673, 0.6532, 0.8410],\n",
       "         [0.9674, 1.7119, 0.4976],\n",
       "         [0.9666, 1.5755, 0.9870],\n",
       "         [0.8471, 0.3932, 1.5169],\n",
       "         [0.2085, 1.1244, 1.7623]]])"
      ]
     },
     "execution_count": 43,
     "metadata": {},
     "output_type": "execute_result"
    }
   ],
   "source": [
    "#차원이 다르더라도 안쪽 차원만 같으면 연산이 가능합니다.\n",
    "\n",
    "x = torch.rand(1,5,3)\n",
    "y = torch.rand(5,3)\n",
    "torch.add(x,y)"
   ]
  },
  {
   "cell_type": "code",
   "execution_count": 45,
   "metadata": {
    "ExecuteTime": {
     "end_time": "2018-10-16T11:47:51.415692Z",
     "start_time": "2018-10-16T11:47:51.411729Z"
    }
   },
   "outputs": [
    {
     "name": "stdout",
     "output_type": "stream",
     "text": [
      "tensor([[0.6340, 0.9185, 0.7175],\n",
      "        [0.4609, 1.1804, 0.1689],\n",
      "        [0.5956, 0.6734, 1.1183],\n",
      "        [1.4676, 0.5494, 0.9229],\n",
      "        [0.4351, 1.3508, 1.1279]])\n"
     ]
    }
   ],
   "source": [
    "# torch.add 말고 add_의 경우에는 이러한 연산 기능이 지원되지 않습니다. 따라서 먼저 x를 같은 차원으로 바꿔줍니다.\n",
    "\n",
    "x = torch.rand(5,3)\n",
    "y.add_(x)\n",
    "print(y)"
   ]
  },
  {
   "cell_type": "code",
   "execution_count": 60,
   "metadata": {
    "ExecuteTime": {
     "end_time": "2018-10-18T14:17:37.639499Z",
     "start_time": "2018-10-18T14:17:37.627620Z"
    },
    "collapsed": true
   },
   "outputs": [
    {
     "name": "stdout",
     "output_type": "stream",
     "text": [
      "tensor([[[[ 0.0000e+00,  0.0000e+00,  1.0402e+22],\n",
      "          [ 0.0000e+00,  5.7397e-42,  0.0000e+00],\n",
      "          [        nan,         nan, -4.0565e+31]],\n",
      "\n",
      "         [[ 5.6192e-43, -5.9708e+31,  5.6192e-43],\n",
      "          [-5.9709e+31,  5.6192e-43, -5.9710e+31],\n",
      "          [ 5.6192e-43, -5.9710e+31,  5.6192e-43]],\n",
      "\n",
      "         [[-5.9710e+31,  5.6192e-43, -5.9708e+31],\n",
      "          [ 5.6192e-43, -5.9711e+31,  5.6192e-43],\n",
      "          [-5.9712e+31,  5.6192e-43, -5.9712e+31]],\n",
      "\n",
      "         ...,\n",
      "\n",
      "         [[ 5.6192e-43, -6.0496e+31,  5.6192e-43],\n",
      "          [-6.0497e+31,  5.6192e-43, -6.0497e+31],\n",
      "          [ 5.6192e-43, -6.0497e+31,  5.6192e-43]],\n",
      "\n",
      "         [[-6.0498e+31,  5.6192e-43, -6.0498e+31],\n",
      "          [ 5.6192e-43, -6.0498e+31,  5.6192e-43],\n",
      "          [-6.0499e+31,  5.6192e-43, -6.0500e+31]],\n",
      "\n",
      "         [[ 5.6192e-43, -6.0500e+31,  5.6192e-43],\n",
      "          [-6.0500e+31,  5.6192e-43, -6.0501e+31],\n",
      "          [ 5.6192e-43, -6.0501e+31,  5.6192e-43]]],\n",
      "\n",
      "\n",
      "        [[[-6.0501e+31,  5.6192e-43, -6.0502e+31],\n",
      "          [ 5.6192e-43, -6.0502e+31,  5.6192e-43],\n",
      "          [-6.0503e+31,  5.6192e-43, -6.0503e+31]],\n",
      "\n",
      "         [[ 5.6192e-43, -6.0504e+31,  5.6192e-43],\n",
      "          [-6.0504e+31,  5.6192e-43, -6.0504e+31],\n",
      "          [ 5.6192e-43, -6.0505e+31,  5.6192e-43]],\n",
      "\n",
      "         [[-6.0505e+31,  5.6192e-43, -6.0505e+31],\n",
      "          [ 5.6192e-43, -6.0506e+31,  5.6192e-43],\n",
      "          [-6.0506e+31,  5.6192e-43, -6.0507e+31]],\n",
      "\n",
      "         ...,\n",
      "\n",
      "         [[ 5.6192e-43, -6.0541e+31,  5.6192e-43],\n",
      "          [-6.0541e+31,  5.6192e-43, -6.0541e+31],\n",
      "          [ 5.6192e-43, -6.0542e+31,  5.6192e-43]],\n",
      "\n",
      "         [[-6.0543e+31,  5.6192e-43, -6.0543e+31],\n",
      "          [ 5.6192e-43, -6.0544e+31,  5.6192e-43],\n",
      "          [-6.0544e+31,  5.6192e-43, -6.0544e+31]],\n",
      "\n",
      "         [[ 5.6192e-43, -6.0545e+31,  5.6192e-43],\n",
      "          [-6.0546e+31,  5.6192e-43, -6.0546e+31],\n",
      "          [ 5.6192e-43, -6.0547e+31,  5.6192e-43]]],\n",
      "\n",
      "\n",
      "        [[[-6.0546e+31,  5.6192e-43, -6.0547e+31],\n",
      "          [ 5.6192e-43, -6.0548e+31,  5.6192e-43],\n",
      "          [-6.0549e+31,  5.6192e-43, -6.0549e+31]],\n",
      "\n",
      "         [[ 5.6192e-43, -6.0550e+31,  5.6192e-43],\n",
      "          [-6.0549e+31,  5.6192e-43, -6.0550e+31],\n",
      "          [ 5.6192e-43, -6.0551e+31,  5.6192e-43]],\n",
      "\n",
      "         [[-6.0552e+31,  5.6192e-43, -6.0552e+31],\n",
      "          [ 5.6192e-43, -6.0553e+31,  5.6192e-43],\n",
      "          [-6.0554e+31,  5.6192e-43, -6.0555e+31]],\n",
      "\n",
      "         ...,\n",
      "\n",
      "         [[ 5.6192e-43, -6.0569e+31,  5.6192e-43],\n",
      "          [-6.0569e+31,  5.6192e-43, -6.0590e+31],\n",
      "          [ 5.6192e-43, -6.0591e+31,  5.6192e-43]],\n",
      "\n",
      "         [[-6.0592e+31,  5.6192e-43, -6.0592e+31],\n",
      "          [ 5.6192e-43, -6.0593e+31,  5.6192e-43],\n",
      "          [-6.0593e+31,  5.6192e-43, -6.0593e+31]],\n",
      "\n",
      "         [[ 5.6192e-43, -6.0594e+31,  5.6192e-43],\n",
      "          [-6.0594e+31,  5.6192e-43, -6.0595e+31],\n",
      "          [ 5.6192e-43, -6.0595e+31,  5.6192e-43]]],\n",
      "\n",
      "\n",
      "        ...,\n",
      "\n",
      "\n",
      "        [[[-6.0751e+31,  5.6192e-43, -6.0750e+31],\n",
      "          [ 5.6192e-43, -6.0751e+31,  5.6192e-43],\n",
      "          [-6.0751e+31,  5.6192e-43, -6.0752e+31]],\n",
      "\n",
      "         [[ 5.6192e-43, -6.0752e+31,  5.6192e-43],\n",
      "          [-6.0753e+31,  5.6192e-43, -6.0753e+31],\n",
      "          [ 5.6192e-43, -6.0753e+31,  5.6192e-43]],\n",
      "\n",
      "         [[-6.0754e+31,  5.6192e-43, -6.0755e+31],\n",
      "          [ 5.6192e-43, -6.0756e+31,  5.6192e-43],\n",
      "          [-6.0756e+31,  5.6192e-43, -6.0757e+31]],\n",
      "\n",
      "         ...,\n",
      "\n",
      "         [[ 5.6192e-43, -6.0768e+31,  5.6192e-43],\n",
      "          [-6.0769e+31,  5.6192e-43, -6.0769e+31],\n",
      "          [ 5.6192e-43, -6.0769e+31,  5.6192e-43]],\n",
      "\n",
      "         [[-6.0770e+31,  5.6192e-43, -6.0770e+31],\n",
      "          [ 5.6192e-43, -6.0770e+31,  5.6192e-43],\n",
      "          [-6.0771e+31,  5.6192e-43, -6.0771e+31]],\n",
      "\n",
      "         [[ 5.6192e-43, -6.0771e+31,  5.6192e-43],\n",
      "          [-6.0772e+31,  5.6192e-43, -6.0772e+31],\n",
      "          [ 5.6192e-43, -6.0773e+31,  5.6192e-43]]],\n",
      "\n",
      "\n",
      "        [[[-6.0773e+31,  5.6192e-43, -6.0774e+31],\n",
      "          [ 5.6192e-43, -6.0774e+31,  5.6192e-43],\n",
      "          [-6.0774e+31,  5.6192e-43, -6.0775e+31]],\n",
      "\n",
      "         [[ 5.6192e-43, -6.0775e+31,  5.6192e-43],\n",
      "          [-6.0775e+31,  5.6192e-43, -6.0776e+31],\n",
      "          [ 5.6192e-43, -6.0776e+31,  5.6192e-43]],\n",
      "\n",
      "         [[-6.0777e+31,  5.6192e-43, -6.0777e+31],\n",
      "          [ 5.6192e-43, -6.0778e+31,  5.6192e-43],\n",
      "          [-6.0778e+31,  5.6192e-43, -6.0778e+31]],\n",
      "\n",
      "         ...,\n",
      "\n",
      "         [[ 5.6192e-43, -6.0809e+31,  5.6192e-43],\n",
      "          [-6.0808e+31,  5.6192e-43, -6.0809e+31],\n",
      "          [ 5.6192e-43, -6.0810e+31,  5.6192e-43]],\n",
      "\n",
      "         [[-6.0810e+31,  5.6192e-43, -6.0810e+31],\n",
      "          [ 5.6192e-43, -6.0811e+31,  5.6192e-43],\n",
      "          [-6.0811e+31,  5.6192e-43, -6.0811e+31]],\n",
      "\n",
      "         [[ 5.6192e-43, -6.0812e+31,  5.6192e-43],\n",
      "          [-6.0812e+31,  5.6192e-43, -6.0812e+31],\n",
      "          [ 5.6192e-43, -6.0813e+31,  5.6192e-43]]],\n",
      "\n",
      "\n",
      "        [[[-6.0814e+31,  5.6192e-43, -6.0813e+31],\n",
      "          [ 5.6192e-43, -6.0814e+31,  5.6192e-43],\n",
      "          [-6.0814e+31,  5.6192e-43, -6.0815e+31]],\n",
      "\n",
      "         [[ 5.6192e-43, -6.0815e+31,  5.6192e-43],\n",
      "          [-6.0815e+31,  5.6192e-43, -6.0816e+31],\n",
      "          [ 5.6192e-43, -6.0817e+31,  5.6192e-43]],\n",
      "\n",
      "         [[-6.0816e+31,  5.6192e-43, -6.0817e+31],\n",
      "          [ 5.6192e-43, -6.0817e+31,  5.6192e-43],\n",
      "          [-6.0818e+31,  5.6192e-43, -6.0818e+31]],\n",
      "\n",
      "         ...,\n",
      "\n",
      "         [[ 0.0000e+00,  0.0000e+00,  0.0000e+00],\n",
      "          [ 0.0000e+00,  0.0000e+00,  0.0000e+00],\n",
      "          [ 0.0000e+00,  0.0000e+00,  0.0000e+00]],\n",
      "\n",
      "         [[ 0.0000e+00,  0.0000e+00,  0.0000e+00],\n",
      "          [ 0.0000e+00,  0.0000e+00,  0.0000e+00],\n",
      "          [ 0.0000e+00,  0.0000e+00,  0.0000e+00]],\n",
      "\n",
      "         [[ 0.0000e+00,  0.0000e+00,  0.0000e+00],\n",
      "          [ 0.0000e+00,  0.0000e+00,  0.0000e+00],\n",
      "          [ 0.0000e+00,  0.0000e+00,  0.0000e+00]]]])\n",
      "tensor([[[ 5.6192e-43, -5.9708e+31,  5.6192e-43],\n",
      "         [-5.9709e+31,  5.6192e-43, -5.9710e+31],\n",
      "         [ 5.6192e-43, -5.9710e+31,  5.6192e-43]],\n",
      "\n",
      "        [[ 5.6192e-43, -6.0504e+31,  5.6192e-43],\n",
      "         [-6.0504e+31,  5.6192e-43, -6.0504e+31],\n",
      "         [ 5.6192e-43, -6.0505e+31,  5.6192e-43]],\n",
      "\n",
      "        [[ 5.6192e-43, -6.0550e+31,  5.6192e-43],\n",
      "         [-6.0549e+31,  5.6192e-43, -6.0550e+31],\n",
      "         [ 5.6192e-43, -6.0551e+31,  5.6192e-43]],\n",
      "\n",
      "        [[ 5.6192e-43, -6.0599e+31,  5.6192e-43],\n",
      "         [-6.0599e+31,  5.6192e-43, -6.0600e+31],\n",
      "         [ 5.6192e-43, -6.0600e+31,  5.6192e-43]],\n",
      "\n",
      "        [[ 5.6192e-43, -6.0625e+31,  5.6192e-43],\n",
      "         [-6.0626e+31,  5.6192e-43, -6.0626e+31],\n",
      "         [ 5.6192e-43, -6.0627e+31,  5.6192e-43]],\n",
      "\n",
      "        [[ 5.6192e-43, -6.0691e+31,  5.6192e-43],\n",
      "         [-6.0692e+31,  5.6192e-43, -6.0692e+31],\n",
      "         [ 5.6192e-43, -6.0692e+31,  5.6192e-43]],\n",
      "\n",
      "        [[ 5.6192e-43, -6.0711e+31,  5.6192e-43],\n",
      "         [-6.0712e+31,  5.6192e-43, -6.0712e+31],\n",
      "         [ 5.6192e-43, -6.0713e+31,  5.6192e-43]],\n",
      "\n",
      "        [[ 5.6192e-43, -6.0752e+31,  5.6192e-43],\n",
      "         [-6.0753e+31,  5.6192e-43, -6.0753e+31],\n",
      "         [ 5.6192e-43, -6.0753e+31,  5.6192e-43]],\n",
      "\n",
      "        [[ 5.6192e-43, -6.0775e+31,  5.6192e-43],\n",
      "         [-6.0775e+31,  5.6192e-43, -6.0776e+31],\n",
      "         [ 5.6192e-43, -6.0776e+31,  5.6192e-43]],\n",
      "\n",
      "        [[ 5.6192e-43, -6.0815e+31,  5.6192e-43],\n",
      "         [-6.0815e+31,  5.6192e-43, -6.0816e+31],\n",
      "         [ 5.6192e-43, -6.0817e+31,  5.6192e-43]]])\n"
     ]
    }
   ],
   "source": [
    "# x 텐서의 2열을 불러옵니다. numpy 연산이 지원됩니다.\n",
    "\n",
    "print(x)\n",
    "print(x[:,1])"
   ]
  },
  {
   "cell_type": "code",
   "execution_count": 65,
   "metadata": {
    "ExecuteTime": {
     "end_time": "2018-10-18T14:21:21.937483Z",
     "start_time": "2018-10-18T14:21:21.929079Z"
    }
   },
   "outputs": [
    {
     "data": {
      "text/plain": [
       "(tensor([[ 1.,  4.,  9.],\n",
       "         [16., 25., 36.]]), torch.Size([2, 3]))"
      ]
     },
     "execution_count": 65,
     "metadata": {},
     "output_type": "execute_result"
    }
   ],
   "source": [
    "# torch.mul()\n",
    "# hadamard product, mxn, mxn 행렬 2개를 곱합니다. 덧셈에 대해 분배법칙을 따릅니다.\n",
    "\n",
    "x1 = torch.FloatTensor([[1,2,3],[4,5,6]])\n",
    "x2 = torch.FloatTensor([[1,2,3],[4,5,6]])\n",
    "x3 = torch.mul(x1,x2)\n",
    "\n",
    "x3, x3.size()"
   ]
  },
  {
   "cell_type": "code",
   "execution_count": 67,
   "metadata": {
    "ExecuteTime": {
     "end_time": "2018-10-18T14:22:18.900911Z",
     "start_time": "2018-10-18T14:22:18.894439Z"
    }
   },
   "outputs": [
    {
     "data": {
      "text/plain": [
       "tensor([[10., 20., 30.],\n",
       "        [40., 50., 60.]])"
      ]
     },
     "execution_count": 67,
     "metadata": {},
     "output_type": "execute_result"
    }
   ],
   "source": [
    "# torch.mul()\n",
    "\n",
    "x1 = torch.FloatTensor([[1,2,3,],[4,5,6]])\n",
    "x2 = x1*10\n",
    "\n",
    "x2"
   ]
  },
  {
   "cell_type": "code",
   "execution_count": 68,
   "metadata": {
    "ExecuteTime": {
     "end_time": "2018-10-18T14:22:59.876800Z",
     "start_time": "2018-10-18T14:22:59.868342Z"
    }
   },
   "outputs": [
    {
     "data": {
      "text/plain": [
       "tensor([[1., 1., 1.],\n",
       "        [1., 1., 1.]])"
      ]
     },
     "execution_count": 68,
     "metadata": {},
     "output_type": "execute_result"
    }
   ],
   "source": [
    "# torch.div()\n",
    "\n",
    "x1 = torch.FloatTensor([[1,2,3],[4,5,6]])\n",
    "x2 = torch.FloatTensor([[1,2,3],[4,5,6]])\n",
    "x3 = torch.div(x1,x2)\n",
    "\n",
    "x3"
   ]
  },
  {
   "cell_type": "code",
   "execution_count": 69,
   "metadata": {
    "ExecuteTime": {
     "end_time": "2018-10-18T14:24:04.752373Z",
     "start_time": "2018-10-18T14:24:04.739488Z"
    }
   },
   "outputs": [
    {
     "data": {
      "text/plain": [
       "tensor([[0.2000, 0.4000, 0.6000],\n",
       "        [0.8000, 1.0000, 1.2000]])"
      ]
     },
     "execution_count": 69,
     "metadata": {},
     "output_type": "execute_result"
    }
   ],
   "source": [
    "# torch.div()\n",
    "\n",
    "x1 = torch.FloatTensor([[1,2,3],[4,5,6]])\n",
    "\n",
    "x1/5"
   ]
  },
  {
   "cell_type": "markdown",
   "metadata": {},
   "source": [
    "### 2) pow, exp, log"
   ]
  },
  {
   "cell_type": "code",
   "execution_count": 74,
   "metadata": {
    "ExecuteTime": {
     "end_time": "2018-10-18T14:26:45.051237Z",
     "start_time": "2018-10-18T14:26:45.045284Z"
    }
   },
   "outputs": [
    {
     "name": "stdout",
     "output_type": "stream",
     "text": [
      "tensor([[0.9270, 0.6997, 0.4527, 0.0064],\n",
      "        [0.1234, 0.8673, 0.2865, 0.7553],\n",
      "        [0.1044, 0.8684, 0.4367, 0.9106]])\n",
      "tensor([[0.8593, 0.4895, 0.2050, 0.0000],\n",
      "        [0.0152, 0.7522, 0.0821, 0.5704],\n",
      "        [0.0109, 0.7540, 0.1907, 0.8292]]) \n",
      " tensor([[0.8593, 0.4895, 0.2050, 0.0000],\n",
      "        [0.0152, 0.7522, 0.0821, 0.5704],\n",
      "        [0.0109, 0.7540, 0.1907, 0.8292]])\n"
     ]
    }
   ],
   "source": [
    "# torch.pow(input,exponent)\n",
    "\n",
    "x1 = torch.rand(3,4)\n",
    "\n",
    "print(x1)\n",
    "print(torch.pow(x1,2),\"\\n\",x1**2)"
   ]
  },
  {
   "cell_type": "code",
   "execution_count": 76,
   "metadata": {
    "ExecuteTime": {
     "end_time": "2018-10-18T14:27:39.869050Z",
     "start_time": "2018-10-18T14:27:39.864586Z"
    }
   },
   "outputs": [
    {
     "name": "stdout",
     "output_type": "stream",
     "text": [
      "tensor([[0.6662, 0.9783, 0.9775, 0.3907],\n",
      "        [0.0661, 0.1779, 0.8077, 0.9035],\n",
      "        [0.6897, 0.5909, 0.2927, 0.8435]])\n",
      "tensor([[1.9469, 2.6600, 2.6579, 1.4780],\n",
      "        [1.0684, 1.1947, 2.2428, 2.4682],\n",
      "        [1.9930, 1.8055, 1.3400, 2.3244]])\n"
     ]
    }
   ],
   "source": [
    "# torch.exp(tensor,out=None)\n",
    "\n",
    "x1 = torch.rand(3,4)\n",
    "\n",
    "print(x1)\n",
    "print(torch.exp(x1))"
   ]
  },
  {
   "cell_type": "code",
   "execution_count": 77,
   "metadata": {
    "ExecuteTime": {
     "end_time": "2018-10-18T14:28:38.622326Z",
     "start_time": "2018-10-18T14:28:38.607413Z"
    }
   },
   "outputs": [
    {
     "name": "stdout",
     "output_type": "stream",
     "text": [
      "tensor([[0.2953, 0.4920, 0.6473, 0.9745],\n",
      "        [0.3756, 0.9168, 0.3854, 0.1833],\n",
      "        [0.0537, 0.8418, 0.7700, 0.0641]])\n",
      "tensor([[-1.2197, -0.7093, -0.4349, -0.0258],\n",
      "        [-0.9793, -0.0869, -0.9535, -1.6968],\n",
      "        [-2.9246, -0.1722, -0.2614, -2.7475]])\n"
     ]
    }
   ],
   "source": [
    "# torch.log(input,out=None)\n",
    "\n",
    "x1 = torch.rand(3,4)\n",
    "\n",
    "print(x1)\n",
    "print(torch.log(x1))"
   ]
  },
  {
   "cell_type": "code",
   "execution_count": 78,
   "metadata": {
    "ExecuteTime": {
     "end_time": "2018-10-18T14:30:17.992784Z",
     "start_time": "2018-10-18T14:30:17.976412Z"
    }
   },
   "outputs": [
    {
     "data": {
      "text/plain": [
       "tensor([[1.4617, 1.3338, 0.6461, 0.5249, 1.1572],\n",
       "        [1.5020, 1.3841, 0.8555, 0.7055, 1.5158],\n",
       "        [1.0398, 0.7409, 0.4515, 0.4343, 0.8520]])"
      ]
     },
     "execution_count": 78,
     "metadata": {},
     "output_type": "execute_result"
    }
   ],
   "source": [
    "# torch.mm(matrix1, matrix2)\n",
    "\n",
    "x1 = torch.rand(3,4)\n",
    "x2 = torch.rand(4,5)\n",
    "\n",
    "torch.mm(x1,x2)"
   ]
  },
  {
   "cell_type": "code",
   "execution_count": 80,
   "metadata": {
    "ExecuteTime": {
     "end_time": "2018-10-18T14:31:40.819367Z",
     "start_time": "2018-10-18T14:31:40.815375Z"
    }
   },
   "outputs": [
    {
     "data": {
      "text/plain": [
       "torch.Size([10, 3, 5])"
      ]
     },
     "execution_count": 80,
     "metadata": {},
     "output_type": "execute_result"
    }
   ],
   "source": [
    "# torch.bmm(batch_matrix1, batch_matrix2)\n",
    "\n",
    "x1 = torch.rand(10,3,4)\n",
    "x2 = torch.rand(10,4,5)\n",
    "\n",
    "torch.bmm(x1,x2).size()"
   ]
  },
  {
   "cell_type": "markdown",
   "metadata": {},
   "source": [
    "![img](https://github.com/shwksl101/Pytorch-A-to-Z/blob/master/img/innerproduct.PNG?raw=true)"
   ]
  },
  {
   "cell_type": "code",
   "execution_count": 85,
   "metadata": {
    "ExecuteTime": {
     "end_time": "2018-10-18T14:35:25.100038Z",
     "start_time": "2018-10-18T14:35:25.092602Z"
    }
   },
   "outputs": [
    {
     "data": {
      "text/plain": [
       "tensor(7)"
      ]
     },
     "execution_count": 85,
     "metadata": {},
     "output_type": "execute_result"
    }
   ],
   "source": [
    "# torch.dot(tensor1, tensor2)\n",
    "\n",
    "torch.dot(torch.tensor([2,3]), torch.tensor([2,1]))"
   ]
  },
  {
   "cell_type": "code",
   "execution_count": 88,
   "metadata": {
    "ExecuteTime": {
     "end_time": "2018-10-18T14:42:57.524955Z",
     "start_time": "2018-10-18T14:42:57.514572Z"
    }
   },
   "outputs": [
    {
     "name": "stdout",
     "output_type": "stream",
     "text": [
      "torch.Size([3, 4]) torch.Size([4, 3])\n"
     ]
    },
    {
     "data": {
      "text/plain": [
       "(torch.Size([10, 3, 4]), torch.Size([10, 4, 3]), torch.Size([10, 4, 3]))"
      ]
     },
     "execution_count": 88,
     "metadata": {},
     "output_type": "execute_result"
    }
   ],
   "source": [
    "# torch.t(matrix)\n",
    "# tranpose\n",
    "\n",
    "x1 = torch.rand(3,4)\n",
    "print(x1.size(), x1.t().size())\n",
    "\n",
    "# torch.transpose(input,dim0,dim1)\n",
    "\n",
    "x1 = torch.rand(10,3,4)\n",
    "x1.size(), torch.transpose(x1,1,2).size(), x1.transpose(1,2).size()"
   ]
  },
  {
   "cell_type": "code",
   "execution_count": 91,
   "metadata": {
    "ExecuteTime": {
     "end_time": "2018-10-18T14:44:18.688704Z",
     "start_time": "2018-10-18T14:44:18.679781Z"
    }
   },
   "outputs": [
    {
     "name": "stdout",
     "output_type": "stream",
     "text": [
      "tensor([[0.3529, 0.5674],\n",
      "        [0.9198, 0.8337]]) \n",
      " (tensor([[-0.1681,  0.0000],\n",
      "        [ 1.3546,  0.0000]]), tensor([[-0.7366, -0.4928],\n",
      "        [ 0.6763, -0.8701]]))\n"
     ]
    }
   ],
   "source": [
    "# torch.eig(a,eigenvectors=Flase)\n",
    "# eigen_value, eigen_vector\n",
    "\n",
    "x1 = torch.rand(2,2)\n",
    "\n",
    "print(x1,\"\\n\",torch.eig(x1,True))"
   ]
  },
  {
   "cell_type": "markdown",
   "metadata": {},
   "source": [
    "### 3) view, item"
   ]
  },
  {
   "cell_type": "code",
   "execution_count": 53,
   "metadata": {
    "ExecuteTime": {
     "end_time": "2018-10-16T11:51:42.774580Z",
     "start_time": "2018-10-16T11:51:42.767140Z"
    }
   },
   "outputs": [
    {
     "name": "stdout",
     "output_type": "stream",
     "text": [
      "torch.Size([4, 4])\n",
      "torch.Size([16]) tensor([-0.1907,  1.4426,  0.8507,  1.6509, -1.6703, -0.6967,  0.6388, -0.1706,\n",
      "        -0.4393,  3.7354,  0.3510,  0.9974, -0.0576, -0.6605, -1.7391,  0.5670])\n",
      "torch.Size([2, 8]) tensor([[-0.1907,  1.4426,  0.8507,  1.6509, -1.6703, -0.6967,  0.6388, -0.1706],\n",
      "        [-0.4393,  3.7354,  0.3510,  0.9974, -0.0576, -0.6605, -1.7391,  0.5670]])\n"
     ]
    }
   ],
   "source": [
    "# view()\n",
    "\n",
    "x = torch.randn(4,4)\n",
    "y = x.view(16)\n",
    "z = x.view(-1,8) # -1의 경우 다른 차원들로 유추합니다. 이 경우에는 2로 유추합니다.\n",
    "print(x.size())\n",
    "print(y.size(),y)\n",
    "print(z.size(),z)"
   ]
  },
  {
   "cell_type": "code",
   "execution_count": 57,
   "metadata": {
    "ExecuteTime": {
     "end_time": "2018-10-16T11:54:28.425390Z",
     "start_time": "2018-10-16T11:54:28.417952Z"
    }
   },
   "outputs": [
    {
     "name": "stdout",
     "output_type": "stream",
     "text": [
      "tensor([1.0873])\n",
      "1.0872668027877808\n"
     ]
    }
   ],
   "source": [
    "# item()\n",
    "\n",
    "x = torch.randn(1)\n",
    "print(x)\n",
    "print(x.item())"
   ]
  },
  {
   "cell_type": "markdown",
   "metadata": {},
   "source": [
    "- 더 많은 연산은 다음의 링크에서 참고하세요 https://pytorch.org/docs/stable/torch.html"
   ]
  },
  {
   "cell_type": "markdown",
   "metadata": {},
   "source": [
    "## 3. Tensor to Numpy, Numpy to Tensor"
   ]
  },
  {
   "cell_type": "code",
   "execution_count": 63,
   "metadata": {
    "ExecuteTime": {
     "end_time": "2018-10-16T12:05:14.994111Z",
     "start_time": "2018-10-16T12:05:14.990154Z"
    }
   },
   "outputs": [],
   "source": [
    "import numpy as np"
   ]
  },
  {
   "cell_type": "code",
   "execution_count": 60,
   "metadata": {
    "ExecuteTime": {
     "end_time": "2018-10-16T12:03:49.835180Z",
     "start_time": "2018-10-16T12:03:49.830247Z"
    }
   },
   "outputs": [
    {
     "name": "stdout",
     "output_type": "stream",
     "text": [
      "tensor([1., 1., 1., 1., 1.])\n"
     ]
    }
   ],
   "source": [
    "a = torch.ones(5) # 1로 채워진 텐서를 생성합니다.\n",
    "print(a)"
   ]
  },
  {
   "cell_type": "code",
   "execution_count": 61,
   "metadata": {
    "ExecuteTime": {
     "end_time": "2018-10-16T12:04:03.331822Z",
     "start_time": "2018-10-16T12:04:03.320915Z"
    }
   },
   "outputs": [
    {
     "name": "stdout",
     "output_type": "stream",
     "text": [
      "[1. 1. 1. 1. 1.]\n"
     ]
    }
   ],
   "source": [
    "# tensor.numpy()\n",
    "\n",
    "b = a.numpy()\n",
    "print(b)"
   ]
  },
  {
   "cell_type": "code",
   "execution_count": 65,
   "metadata": {
    "ExecuteTime": {
     "end_time": "2018-10-16T12:05:53.759506Z",
     "start_time": "2018-10-16T12:05:53.752563Z"
    }
   },
   "outputs": [
    {
     "name": "stdout",
     "output_type": "stream",
     "text": [
      "[2. 2. 2. 2. 2.]\n",
      "tensor([2., 2., 2., 2., 2.], dtype=torch.float64)\n"
     ]
    }
   ],
   "source": [
    "# torch.from_numpy(ndarray)\n",
    "\n",
    "a = np.ones(5) #a와 b는 연동됩니다.\n",
    "b = torch.from_numpy(a)\n",
    "\n",
    "np.add(a,1,out=a)\n",
    "\n",
    "print(a)\n",
    "print(b) #chartensor를 제외한 모든 tensor는 numpy로의 변환을 지원합니다."
   ]
  },
  {
   "cell_type": "markdown",
   "metadata": {},
   "source": [
    "## 4. Tensor on GPU"
   ]
  },
  {
   "cell_type": "code",
   "execution_count": 97,
   "metadata": {
    "ExecuteTime": {
     "end_time": "2018-10-18T14:52:44.993367Z",
     "start_time": "2018-10-18T14:52:44.988429Z"
    }
   },
   "outputs": [
    {
     "name": "stdout",
     "output_type": "stream",
     "text": [
      "tensor([[1., 2., 3.],\n",
      "        [4., 5., 6.]])\n"
     ]
    }
   ],
   "source": [
    "x= torch.FloatTensor([[1,2,3],[4,5,6]])\n",
    "\n",
    "if torch.cuda.is_available():\n",
    "    x_cuda = x.cuda()\n",
    "else:\n",
    "    x_cuda = x.cpu()\n",
    "    \n",
    "print(x_cuda)"
   ]
  },
  {
   "cell_type": "code",
   "execution_count": 67,
   "metadata": {
    "ExecuteTime": {
     "end_time": "2018-10-16T12:09:27.092831Z",
     "start_time": "2018-10-16T12:09:27.086847Z"
    }
   },
   "outputs": [],
   "source": [
    "if torch.cuda.is_available():\n",
    "    device = torch.device(\"cuda\")\n",
    "    y = torch.ones_like(x,device=device)\n",
    "    x = x.to(device)\n",
    "    z = x+y\n",
    "    print(z)\n",
    "    print(z.to(\"cpu\",torch.double)) #.to 기능을 tensor를 GPU로 연산할 수 있습니다"
   ]
  },
  {
   "cell_type": "markdown",
   "metadata": {},
   "source": [
    "## 5. Indexing, Slicing, Joining\n",
    "\n",
    "### 1) Indexing"
   ]
  },
  {
   "cell_type": "code",
   "execution_count": 105,
   "metadata": {
    "ExecuteTime": {
     "end_time": "2018-10-18T14:56:58.868223Z",
     "start_time": "2018-10-18T14:56:58.861290Z"
    }
   },
   "outputs": [
    {
     "name": "stdout",
     "output_type": "stream",
     "text": [
      "tensor([[0.8311, 0.1818, 0.7193],\n",
      "        [0.7232, 0.8519, 0.9920],\n",
      "        [0.5484, 0.3168, 0.7273],\n",
      "        [0.8554, 0.5796, 0.1729]]) \n",
      " tensor([[0.8311, 0.1818, 0.7193],\n",
      "        [0.8554, 0.5796, 0.1729]])\n"
     ]
    }
   ],
   "source": [
    "# tensor.index_select(input,dim,index)\n",
    "\n",
    "x = torch.rand(4,3)\n",
    "out = torch.index_select(x,0,torch.LongTensor([0,3]))\n",
    "# index는 꼭 Longtensor로 입력해야 합니다.\n",
    "\n",
    "print(x, \"\\n\", out)"
   ]
  },
  {
   "cell_type": "code",
   "execution_count": 106,
   "metadata": {
    "ExecuteTime": {
     "end_time": "2018-10-18T14:58:17.485947Z",
     "start_time": "2018-10-18T14:58:17.476527Z"
    }
   },
   "outputs": [
    {
     "name": "stdout",
     "output_type": "stream",
     "text": [
      "tensor([[0.8311, 0.1818, 0.7193],\n",
      "        [0.7232, 0.8519, 0.9920],\n",
      "        [0.5484, 0.3168, 0.7273],\n",
      "        [0.8554, 0.5796, 0.1729]])\n",
      "tensor([0.8311, 0.7232, 0.5484, 0.8554])\n",
      "tensor([0.8311, 0.1818, 0.7193])\n",
      "tensor([[0.8311, 0.1818],\n",
      "        [0.7232, 0.8519]])\n"
     ]
    }
   ],
   "source": [
    "print(x)\n",
    "print(x[:,0])\n",
    "print(x[0,:])\n",
    "print(x[0:2,0:2])"
   ]
  },
  {
   "cell_type": "code",
   "execution_count": 109,
   "metadata": {
    "ExecuteTime": {
     "end_time": "2018-10-18T14:59:55.143728Z",
     "start_time": "2018-10-18T14:59:55.136288Z"
    }
   },
   "outputs": [
    {
     "name": "stdout",
     "output_type": "stream",
     "text": [
      "tensor([[-1.0903, -1.0116, -0.7674],\n",
      "        [ 1.0127, -0.4559,  0.5633]]) \n",
      " tensor([[0, 0, 1],\n",
      "        [0, 1, 0]], dtype=torch.uint8) \n",
      " tensor([-0.7674, -0.4559])\n"
     ]
    }
   ],
   "source": [
    "# torch.masked_select(input,mask)\n",
    "# 1로 표시한 텐서만 고릅니다.\n",
    "\n",
    "x = torch.randn(2,3)\n",
    "mask = torch.ByteTensor([[0,0,1],[0,1,0]])\n",
    "out = torch.masked_select(x,mask)\n",
    "\n",
    "print(x,\"\\n\", mask, \"\\n\" ,out)"
   ]
  },
  {
   "cell_type": "markdown",
   "metadata": {},
   "source": [
    "### 2) Joining"
   ]
  },
  {
   "cell_type": "code",
   "execution_count": 112,
   "metadata": {
    "ExecuteTime": {
     "end_time": "2018-10-18T15:03:42.155801Z",
     "start_time": "2018-10-18T15:03:42.147864Z"
    }
   },
   "outputs": [
    {
     "name": "stdout",
     "output_type": "stream",
     "text": [
      "tensor([[1., 2., 3.],\n",
      "        [4., 5., 6.]])\n",
      "tensor([[ 7.,  8.,  9.],\n",
      "        [10., 11., 12.]])\n",
      "tensor([[ 1.,  2.,  3.],\n",
      "        [ 4.,  5.,  6.],\n",
      "        [ 7.,  8.,  9.],\n",
      "        [10., 11., 12.]])\n",
      "tensor([[ 1.,  2.,  3.,  7.,  8.,  9.],\n",
      "        [ 4.,  5.,  6., 10., 11., 12.]])\n"
     ]
    }
   ],
   "source": [
    "# torch.cat(seq, dim=0)\n",
    "# dim을 기준으로 tensor를 합칩니다.\n",
    "# dim = 0은 행, dim = 1은 열 기준입니다.\n",
    "\n",
    "x = torch.FloatTensor([[1,2,3],\n",
    "                       [4,5,6]])\n",
    "y = torch.FloatTensor([[7,8,9],\n",
    "                       [10,11,12]])\n",
    "z1 = torch.cat([x,y],dim = 0)\n",
    "z2 = torch.cat([x,y],dim = 1)\n",
    "\n",
    "print(x)\n",
    "print(y)\n",
    "print(z1)\n",
    "print(z2)"
   ]
  },
  {
   "cell_type": "code",
   "execution_count": 116,
   "metadata": {
    "ExecuteTime": {
     "end_time": "2018-10-18T15:06:42.528676Z",
     "start_time": "2018-10-18T15:06:42.521732Z"
    }
   },
   "outputs": [
    {
     "name": "stdout",
     "output_type": "stream",
     "text": [
      "tensor([[1., 2., 3.],\n",
      "        [1., 2., 3.]]) \n",
      " tensor([[1., 1.],\n",
      "        [2., 2.],\n",
      "        [3., 3.]])\n"
     ]
    }
   ],
   "source": [
    "# torch.stack(sequence,dim=0)\n",
    "# dim을 기준으로 쌓습니다.\n",
    "\n",
    "x = torch.FloatTensor([1,2,3])\n",
    "x_stack = torch.stack([x,x],dim=0)\n",
    "x_stack2 = torch.stack([x,x],dim=1)\n",
    "\n",
    "print(x_stack,\"\\n\",x_stack2)"
   ]
  },
  {
   "cell_type": "markdown",
   "metadata": {},
   "source": [
    "### 3) Slicing"
   ]
  },
  {
   "cell_type": "code",
   "execution_count": 122,
   "metadata": {
    "ExecuteTime": {
     "end_time": "2018-10-18T15:26:40.350021Z",
     "start_time": "2018-10-18T15:26:40.340105Z"
    }
   },
   "outputs": [
    {
     "name": "stdout",
     "output_type": "stream",
     "text": [
      "tensor([[ 1.,  2.,  3.],\n",
      "        [ 4.,  5.,  6.],\n",
      "        [ 7.,  8.,  9.],\n",
      "        [10., 11., 12.]])\n",
      "tensor([[1., 2., 3.],\n",
      "        [4., 5., 6.]])\n",
      "tensor([[ 7.,  8.,  9.],\n",
      "        [10., 11., 12.]])\n",
      "tensor([[ 1.],\n",
      "        [ 4.],\n",
      "        [ 7.],\n",
      "        [10.]])\n",
      "tensor([[ 2.],\n",
      "        [ 5.],\n",
      "        [ 8.],\n",
      "        [11.]])\n",
      "tensor([[ 3.],\n",
      "        [ 6.],\n",
      "        [ 9.],\n",
      "        [12.]])\n"
     ]
    }
   ],
   "source": [
    "# torch.chunk(tensor, chunks, dim=0)\n",
    "# tensor를 chunk 단위로 쪼갭니다.\n",
    "\n",
    "x = torch.FloatTensor([[1,2,3],\n",
    "                       [4,5,6]])\n",
    "y = torch.FloatTensor([[7,8,9],\n",
    "                       [10,11,12]])\n",
    "z1 = torch.cat([x,y],dim = 0)\n",
    "\n",
    "x_1, x_2 = torch.chunk(z1,2,dim=0)\n",
    "y_1, y_2, y_3 = torch.chunk(z1,3,dim=1)\n",
    "\n",
    "print(z1)\n",
    "print(x_1)\n",
    "print(x_2)\n",
    "print(y_1)\n",
    "print(y_2)\n",
    "print(y_3)"
   ]
  },
  {
   "cell_type": "code",
   "execution_count": 128,
   "metadata": {
    "ExecuteTime": {
     "end_time": "2018-10-18T15:30:36.566401Z",
     "start_time": "2018-10-18T15:30:36.560913Z"
    }
   },
   "outputs": [
    {
     "name": "stdout",
     "output_type": "stream",
     "text": [
      "tensor([[1., 2., 3.],\n",
      "        [4., 5., 6.]])\n",
      "tensor([[ 7.,  8.,  9.],\n",
      "        [10., 11., 12.]])\n",
      "(tensor([[ 1.,  2.],\n",
      "        [ 4.,  5.],\n",
      "        [ 7.,  8.],\n",
      "        [10., 11.]]), tensor([[ 3.],\n",
      "        [ 6.],\n",
      "        [ 9.],\n",
      "        [12.]]))\n"
     ]
    }
   ],
   "source": [
    "# torch.splot(tensor,splot_size,dim=0)\n",
    "\n",
    "x = torch.FloatTensor([[1,2,3],\n",
    "                       [4,5,6]])\n",
    "y = torch.FloatTensor([[7,8,9],\n",
    "                       [10,11,12]])\n",
    "z1 = torch.cat([x,y],dim = 0)\n",
    "\n",
    "x1,x2 = torch.split(z1,2,dim=0)\n",
    "y1 = torch.split(z1,2,dim=1)\n",
    "\n",
    "print(x1)\n",
    "print(x2)\n",
    "print(y1)"
   ]
  },
  {
   "cell_type": "markdown",
   "metadata": {},
   "source": [
    "### 4) squeezing"
   ]
  },
  {
   "cell_type": "code",
   "execution_count": 130,
   "metadata": {
    "ExecuteTime": {
     "end_time": "2018-10-18T15:32:18.274598Z",
     "start_time": "2018-10-18T15:32:18.270607Z"
    }
   },
   "outputs": [
    {
     "data": {
      "text/plain": [
       "(torch.Size([10, 1, 3, 1, 4]), torch.Size([10, 3, 4]))"
      ]
     },
     "execution_count": 130,
     "metadata": {},
     "output_type": "execute_result"
    }
   ],
   "source": [
    "# torch.squeez(input, dim=None)\n",
    "# 1짜리 차원을 줄입니다.\n",
    "\n",
    "x1 = torch.FloatTensor(10,1,3,1,4)\n",
    "x2 = torch.squeeze(x1)\n",
    "\n",
    "x1.size(), x2.size()"
   ]
  },
  {
   "cell_type": "code",
   "execution_count": 131,
   "metadata": {
    "ExecuteTime": {
     "end_time": "2018-10-18T15:33:42.680785Z",
     "start_time": "2018-10-18T15:33:42.668846Z"
    }
   },
   "outputs": [
    {
     "data": {
      "text/plain": [
       "(torch.Size([2, 3]), torch.Size([1, 10, 3, 4]))"
      ]
     },
     "execution_count": 131,
     "metadata": {},
     "output_type": "execute_result"
    }
   ],
   "source": [
    "# torch.unsqueeze(input,dim=None)\n",
    "# 1짜리 차원을 더합니다.\n",
    "\n",
    "x1 = torch.FloatTensor(10,3,4)\n",
    "x2 = torch.unsqueeze(x1,dim=0)\n",
    "\n",
    "x.size(), x2.size()"
   ]
  },
  {
   "cell_type": "markdown",
   "metadata": {},
   "source": [
    "## 6. Initialization"
   ]
  },
  {
   "cell_type": "code",
   "execution_count": 133,
   "metadata": {
    "ExecuteTime": {
     "end_time": "2018-10-18T15:34:35.243740Z",
     "start_time": "2018-10-18T15:34:35.234338Z"
    }
   },
   "outputs": [
    {
     "data": {
      "text/plain": [
       "(tensor([[1.0948, 5.2341, 7.3144, 3.9653],\n",
       "         [1.7959, 1.4752, 6.9669, 4.4430],\n",
       "         [4.3531, 1.3461, 8.8319, 6.9616]]),\n",
       " tensor([[ 0.1977, -0.0273, -0.3114,  0.2082],\n",
       "         [-0.2204, -0.1628,  0.1662, -0.0214],\n",
       "         [ 0.1363,  0.0342, -0.2627, -0.1452]]),\n",
       " tensor([[3.1415, 3.1415, 3.1415, 3.1415],\n",
       "         [3.1415, 3.1415, 3.1415, 3.1415],\n",
       "         [3.1415, 3.1415, 3.1415, 3.1415]]))"
      ]
     },
     "execution_count": 133,
     "metadata": {},
     "output_type": "execute_result"
    }
   ],
   "source": [
    "import torch.nn.init as init\n",
    "\n",
    "x1 = init.uniform_(torch.FloatTensor(3,4),a=0,b=9) \n",
    "x2 = init.normal_(torch.FloatTensor(3,4),std=0.2)\n",
    "x3 = init.constant_(torch.FloatTensor(3,4),3.1415)\n",
    "\n",
    "x1,x2,x3"
   ]
  },
  {
   "cell_type": "code",
   "execution_count": null,
   "metadata": {},
   "outputs": [],
   "source": []
  }
 ],
 "metadata": {
  "kernelspec": {
   "display_name": "Python 3",
   "language": "python",
   "name": "python3"
  },
  "language_info": {
   "codemirror_mode": {
    "name": "ipython",
    "version": 3
   },
   "file_extension": ".py",
   "mimetype": "text/x-python",
   "name": "python",
   "nbconvert_exporter": "python",
   "pygments_lexer": "ipython3",
   "version": "3.7.0"
  },
  "latex_envs": {
   "LaTeX_envs_menu_present": true,
   "autoclose": false,
   "autocomplete": true,
   "bibliofile": "biblio.bib",
   "cite_by": "apalike",
   "current_citInitial": 1,
   "eqLabelWithNumbers": true,
   "eqNumInitial": 1,
   "hotkeys": {
    "equation": "Ctrl-E",
    "itemize": "Ctrl-I"
   },
   "labels_anchors": false,
   "latex_user_defs": false,
   "report_style_numbering": false,
   "user_envs_cfg": false
  },
  "toc": {
   "base_numbering": 1,
   "nav_menu": {},
   "number_sections": false,
   "sideBar": true,
   "skip_h1_title": false,
   "title_cell": "Table of Contents",
   "title_sidebar": "Contents",
   "toc_cell": false,
   "toc_position": {},
   "toc_section_display": true,
   "toc_window_display": false
  },
  "varInspector": {
   "cols": {
    "lenName": 16,
    "lenType": 16,
    "lenVar": 40
   },
   "kernels_config": {
    "python": {
     "delete_cmd_postfix": "",
     "delete_cmd_prefix": "del ",
     "library": "var_list.py",
     "varRefreshCmd": "print(var_dic_list())"
    },
    "r": {
     "delete_cmd_postfix": ") ",
     "delete_cmd_prefix": "rm(",
     "library": "var_list.r",
     "varRefreshCmd": "cat(var_dic_list()) "
    }
   },
   "types_to_exclude": [
    "module",
    "function",
    "builtin_function_or_method",
    "instance",
    "_Feature"
   ],
   "window_display": false
  }
 },
 "nbformat": 4,
 "nbformat_minor": 2
}
