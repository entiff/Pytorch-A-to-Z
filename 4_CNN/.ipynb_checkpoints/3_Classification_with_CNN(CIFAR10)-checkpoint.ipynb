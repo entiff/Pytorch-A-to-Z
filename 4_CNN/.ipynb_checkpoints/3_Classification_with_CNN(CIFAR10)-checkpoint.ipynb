{
 "cells": [
  {
   "cell_type": "markdown",
   "metadata": {
    "colab_type": "text",
    "id": "7B8ptil0Ztw7"
   },
   "source": [
    "# Classification with Convolutional Neural Net (CIFAR10)\n",
    "\n",
    "- CIFAR10 data set을 이용해 plane, car, bird, cat 등의 이미지를 분류하는 문제를 풀어보도록 하겠습니다."
   ]
  },
  {
   "cell_type": "code",
   "execution_count": 0,
   "metadata": {
    "colab": {},
    "colab_type": "code",
    "id": "xOOHC6g2Zjcb"
   },
   "outputs": [],
   "source": [
    "# http://pytorch.org/\n",
    "from os.path import exists\n",
    "from wheel.pep425tags import get_abbr_impl, get_impl_ver, get_abi_tag\n",
    "platform = '{}{}-{}'.format(get_abbr_impl(), get_impl_ver(), get_abi_tag())\n",
    "cuda_output = !ldconfig -p|grep cudart.so|sed -e 's/.*\\.\\([0-9]*\\)\\.\\([0-9]*\\)$/cu\\1\\2/'\n",
    "accelerator = cuda_output[0] if exists('/dev/nvidia0') else 'cpu'\n",
    "\n",
    "!pip install -q http://download.pytorch.org/whl/{accelerator}/torch-0.4.1-{platform}-linux_x86_64.whl torchvision\n",
    "import torch"
   ]
  },
  {
   "cell_type": "code",
   "execution_count": 3,
   "metadata": {
    "colab": {
     "base_uri": "https://localhost:8080/",
     "height": 56
    },
    "colab_type": "code",
    "executionInfo": {
     "elapsed": 1259,
     "status": "ok",
     "timestamp": 1540749997670,
     "user": {
      "displayName": "김태희",
      "photoUrl": "",
      "userId": "11953226521466726862"
     },
     "user_tz": -540
    },
    "id": "YohwGOI6ZzZN",
    "outputId": "cd54c070-c423-4829-d0d2-ae4d2d1e20ab"
   },
   "outputs": [
    {
     "name": "stdout",
     "output_type": "stream",
     "text": [
      "0.4.1\n",
      "True\n"
     ]
    }
   ],
   "source": [
    "print(torch.__version__)\n",
    "print(torch.cuda.is_available())"
   ]
  },
  {
   "cell_type": "code",
   "execution_count": 0,
   "metadata": {
    "colab": {},
    "colab_type": "code",
    "id": "SqyMoFCZZ5jM"
   },
   "outputs": [],
   "source": [
    "import torch.nn as nn\n",
    "import torchvision\n",
    "import torchvision.transforms as transforms"
   ]
  },
  {
   "cell_type": "code",
   "execution_count": 0,
   "metadata": {
    "colab": {},
    "colab_type": "code",
    "id": "FQm-9SLYaNaF"
   },
   "outputs": [],
   "source": [
    "# torch.device()를 통해 gpu를 이용합니다. \n",
    "# cuda:뒤의 번호는 gpu를 여러개 동시 사용할 때 쓰이는 gpu 번호입니다.\n",
    "# gpu 사용이 가능한 경우 torch.cuda.is_available() = True이고 아닌 경우 False가 됩니다.\n",
    "\n",
    "device = torch.device('cuda:0' if torch.cuda.is_available() else 'cpu')"
   ]
  },
  {
   "cell_type": "markdown",
   "metadata": {
    "colab_type": "text",
    "id": "aF_bv-5wcPJ3"
   },
   "source": [
    "## Load Data & Preprocessing"
   ]
  },
  {
   "cell_type": "code",
   "execution_count": 53,
   "metadata": {
    "colab": {
     "base_uri": "https://localhost:8080/",
     "height": 56
    },
    "colab_type": "code",
    "executionInfo": {
     "elapsed": 2683,
     "status": "ok",
     "timestamp": 1540751675694,
     "user": {
      "displayName": "김태희",
      "photoUrl": "",
      "userId": "11953226521466726862"
     },
     "user_tz": -540
    },
    "id": "KNrerUbKcOjg",
    "outputId": "fc566bce-f7fa-4836-bfb8-9c7e64fc155a"
   },
   "outputs": [
    {
     "name": "stdout",
     "output_type": "stream",
     "text": [
      "Files already downloaded and verified\n",
      "Files already downloaded and verified\n"
     ]
    }
   ],
   "source": [
    "# 우선 dataset을 불러와 정규화를 해야 합니다.\n",
    "\n",
    "# torchvision.transforms.Compose() 여러개의 transform을 구성합니다.\n",
    "# totensor, normalize를 구성합니다.\n",
    "transform = transforms.Compose([transforms.ToTensor(),transforms.Normalize((0.5,0.5,0.5), (0.5,0.5,0.5))])\n",
    "\n",
    "# trainset\n",
    "trainset = torchvision.datasets.CIFAR10(root='./data',\n",
    "                                        train=True,\n",
    "                                        download=True,\n",
    "                                        transform=transform)\n",
    "\n",
    "# testset\n",
    "testset = torchvision.datasets.CIFAR10(root='./data',\n",
    "                                       train=False, \n",
    "                                       download=True, \n",
    "                                       transform=transform)"
   ]
  },
  {
   "cell_type": "code",
   "execution_count": 0,
   "metadata": {
    "colab": {},
    "colab_type": "code",
    "id": "371EfCBTrPJh"
   },
   "outputs": [],
   "source": [
    "# num_workers는 사용하는 cpu의 갯수를 뜻합니다. batch_size = 4입니다.\n",
    "\n",
    "trainloader = torch.utils.data.DataLoader(trainset,batch_size = 4,shuffle = True)\n",
    "\n",
    "testloader = torch.utils.data.DataLoader(testset,batch_size=4,shuffle=False)\n",
    "\n",
    "classes = ('plane','car','bird','cat','deer','dog','frog','horse','ship','truck')"
   ]
  },
  {
   "cell_type": "code",
   "execution_count": 55,
   "metadata": {
    "colab": {
     "base_uri": "https://localhost:8080/",
     "height": 187
    },
    "colab_type": "code",
    "executionInfo": {
     "elapsed": 1597,
     "status": "ok",
     "timestamp": 1540751680151,
     "user": {
      "displayName": "김태희",
      "photoUrl": "",
      "userId": "11953226521466726862"
     },
     "user_tz": -540
    },
    "id": "xgV2Hud7cTXc",
    "outputId": "d9df9c55-1aa6-4013-c29a-0f3871e23324"
   },
   "outputs": [
    {
     "name": "stdout",
     "output_type": "stream",
     "text": [
      "horse   dog truck   cat\n"
     ]
    },
    {
     "data": {
      "image/png": "[encoded data removed]",
      "text/plain": [
       "<matplotlib.figure.Figure at 0x7fb0a3871dd8>"
      ]
     },
     "metadata": {
      "tags": []
     },
     "output_type": "display_data"
    }
   ],
   "source": [
    "# 우리가 분류하는 image 예시를 한번 보고 가겠습니다.\n",
    "\n",
    "import matplotlib.pyplot as plt\n",
    "import numpy as np\n",
    "\n",
    "# image show 함수\n",
    "# torchvision.utils.make_grid(images) 는 -1 ~ 1의 범위를 갖습니다. \n",
    "# plot을 그리기 위해 우선 0~1 범위로 변경합니다.\n",
    "# numpy()로 넣어주고 가로로 4개의 이미지를 보여주기 위해 transpose로 차원 위치를 변경합니다.\n",
    "\n",
    "def imshow(img):\n",
    "    img = img / 2 +0.5\n",
    "    npimg = img.numpy()\n",
    "    plt.imshow(np.transpose(npimg,(1,2,0)))\n",
    "\n",
    "# 학습용 이미지를 iter()로 하나씩 가져오기\n",
    "dataiter = iter(trainloader)\n",
    "images, labels = dataiter.next()\n",
    "\n",
    "#정답 출력\n",
    "print(' '.join('%5s' % classes[labels[j]] for j in range(4)))\n",
    "\n",
    "#이미지 보여주기\n",
    "imshow(torchvision.utils.make_grid(images))"
   ]
  },
  {
   "cell_type": "code",
   "execution_count": 56,
   "metadata": {
    "colab": {
     "base_uri": "https://localhost:8080/",
     "height": 37
    },
    "colab_type": "code",
    "executionInfo": {
     "elapsed": 838,
     "status": "ok",
     "timestamp": 1540751779726,
     "user": {
      "displayName": "김태희",
      "photoUrl": "",
      "userId": "11953226521466726862"
     },
     "user_tz": -540
    },
    "id": "EZ8g0AoOfFDz",
    "outputId": "17bfaa40-4aae-486f-da3a-c2a34b1f924a"
   },
   "outputs": [
    {
     "data": {
      "text/plain": [
       "torch.Size([3, 36, 138])"
      ]
     },
     "execution_count": 56,
     "metadata": {
      "tags": []
     },
     "output_type": "execute_result"
    }
   ],
   "source": [
    "torchvision.utils.make_grid(images).shape"
   ]
  },
  {
   "cell_type": "markdown",
   "metadata": {
    "colab_type": "text",
    "id": "X89JB1hwfI11"
   },
   "source": [
    "## Modeling"
   ]
  },
  {
   "cell_type": "code",
   "execution_count": 0,
   "metadata": {
    "colab": {},
    "colab_type": "code",
    "id": "n1evmcXZfG5Y"
   },
   "outputs": [],
   "source": [
    "class ConvNet(nn.Module):\n",
    "    def __init__(self):\n",
    "        super(ConvNet,self).__init__()\n",
    "        \n",
    "        # 이제 3채널 이미지를 처리합니다.\n",
    "        # 32x32x3xbatch_size\n",
    "        \n",
    "        self.layer1 = nn.Sequential(\n",
    "            nn.Conv2d(3,6,kernel_size = 5, stride = 1, padding = 0),\n",
    "            nn.ReLU(),\n",
    "            nn.MaxPool2d(kernel_size = 2, stride = 2)\n",
    "            )\n",
    "        # 14x14x6xbatch_size\n",
    "        self.layer2 = nn.Sequential(\n",
    "            nn.Conv2d(6,16, kernel_size = 5, stride = 1, padding = 0),\n",
    "            nn.ReLU(),\n",
    "            nn.MaxPool2d(kernel_size = 2, stride = 2)\n",
    "            )\n",
    "        # 5x5x16xbatch_size\n",
    "        \n",
    "        self.fc1 = nn.Sequential(\n",
    "                            nn.Linear(5*5*16,120),\n",
    "                            nn.ReLU()\n",
    "                            )\n",
    "        \n",
    "        self.fc2 = nn.Sequential(\n",
    "                            nn.Linear(120,84),\n",
    "                            nn.ReLU()\n",
    "                            )\n",
    "        \n",
    "        self.fc3 = nn.Linear(84,10)\n",
    "        \n",
    "    def forward(self, x):\n",
    "        \n",
    "        # conv1(), 32x32인데 kernel_size= 5x5, stride =1, padding =0이므로 output은 28x28x6입니다.\n",
    "        # pool(), 28x28를 kernel_size = 2x2, stride = 2로 pooling합니다. output은 14x14x6입니다.\n",
    "        \n",
    "        x = self.layer1(x)\n",
    "        \n",
    "        # conv2(), 14x14x6, kernel_size = 5x5, stride=1, padding = 0이므로 output은 10x10x16이 됩니다.\n",
    "        # pool(), 10x10를 kernel_size = 2x2, stride =2로 pooling합니다. output은 5x5x16입니다.\n",
    "\n",
    "        x = self.layer2(x)\n",
    "        \n",
    "        x = x.reshape(x.size(0),-1)\n",
    " \n",
    "        x = self.fc1(x)\n",
    "        x = self.fc2(x)\n",
    "        x = self.fc3(x)\n",
    "        \n",
    "        return x\n",
    "\n",
    "\n",
    "net = ConvNet()\n",
    "\n",
    "if torch.cuda.is_available():    \n",
    "  net = ConvNet().to(device)"
   ]
  },
  {
   "cell_type": "markdown",
   "metadata": {
    "colab_type": "text",
    "id": "zg_n6dFGfotm"
   },
   "source": [
    "## Loss function & Optimizer"
   ]
  },
  {
   "cell_type": "code",
   "execution_count": 0,
   "metadata": {
    "colab": {},
    "colab_type": "code",
    "id": "e5ymcA9afnpo"
   },
   "outputs": [],
   "source": [
    "criterion = nn.CrossEntropyLoss()\n",
    "optimizer = torch.optim.SGD(net.parameters(), lr=0.001,momentum=0.9)"
   ]
  },
  {
   "cell_type": "markdown",
   "metadata": {
    "colab_type": "text",
    "id": "PDAkHC-NfxLz"
   },
   "source": [
    "## Training"
   ]
  },
  {
   "cell_type": "code",
   "execution_count": 96,
   "metadata": {
    "colab": {
     "base_uri": "https://localhost:8080/",
     "height": 269
    },
    "colab_type": "code",
    "executionInfo": {
     "elapsed": 148271,
     "status": "ok",
     "timestamp": 1540754054872,
     "user": {
      "displayName": "김태희",
      "photoUrl": "",
      "userId": "11953226521466726862"
     },
     "user_tz": -540
    },
    "id": "JHres2SXfwy6",
    "outputId": "7e578cee-7d01-4f7c-f326-3329ad5754d8"
   },
   "outputs": [
    {
     "name": "stdout",
     "output_type": "stream",
     "text": [
      "[1,  2000] loss: 2.177\n",
      "[1,  4000] loss: 1.818\n",
      "[1,  6000] loss: 1.658\n",
      "[1,  8000] loss: 1.561\n",
      "[1, 10000] loss: 1.488\n",
      "[1, 12000] loss: 1.450\n",
      "[2,  2000] loss: 1.401\n",
      "[2,  4000] loss: 1.347\n",
      "[2,  6000] loss: 1.343\n",
      "[2,  8000] loss: 1.296\n",
      "[2, 10000] loss: 1.289\n",
      "[2, 12000] loss: 1.277\n",
      "Finished Training\n"
     ]
    }
   ],
   "source": [
    "for epoch in range(2): #데이터셋을 여러번 반복합니다.\n",
    "    \n",
    "    running_loss = 0.0\n",
    "    for i, (images,labels) in enumerate(trainloader): \n",
    "        \n",
    "        # 입력을 받습니다.\n",
    "        \n",
    "        if torch.cuda.is_available():\n",
    "          images = images.to(device)\n",
    "          labels = labels.long().to(device)\n",
    "        \n",
    "        # Feed forward\n",
    "        \n",
    "        outputs = net(images)\n",
    "        loss = criterion(outputs, labels)\n",
    "        \n",
    "        # Back prop and update weight\n",
    "        \n",
    "        optimizer.zero_grad()\n",
    "        loss.backward()\n",
    "        optimizer.step()\n",
    "        \n",
    "        # loss 출력\n",
    "        running_loss += loss.item()\n",
    "        if i % 2000 == 1999:\n",
    "            print('[%d, %5d] loss: %.3f' % (epoch + 1, i+1, running_loss/2000))\n",
    "            running_loss =0.0\n",
    "            \n",
    "print(\"Finished Training\")"
   ]
  },
  {
   "cell_type": "markdown",
   "metadata": {
    "colab_type": "text",
    "id": "MRZlDzWCgnDl"
   },
   "source": [
    "##  Evaluation"
   ]
  },
  {
   "cell_type": "code",
   "execution_count": 97,
   "metadata": {
    "colab": {
     "base_uri": "https://localhost:8080/",
     "height": 187
    },
    "colab_type": "code",
    "executionInfo": {
     "elapsed": 1865,
     "status": "ok",
     "timestamp": 1540754084765,
     "user": {
      "displayName": "김태희",
      "photoUrl": "",
      "userId": "11953226521466726862"
     },
     "user_tz": -540
    },
    "id": "AhBjEDFpgA4p",
    "outputId": "338b3a93-eefa-4d32-81e2-f1e9db456861"
   },
   "outputs": [
    {
     "name": "stdout",
     "output_type": "stream",
     "text": [
      "GroundTruth:   cat  ship  ship plane\n"
     ]
    },
    {
     "data": {
      "image/png": "[encoded data removed]",
      "text/plain": [
       "<matplotlib.figure.Figure at 0x7fb0a1514320>"
      ]
     },
     "metadata": {
      "tags": []
     },
     "output_type": "display_data"
    }
   ],
   "source": [
    "dataiter = iter(testloader) # iter, next를 이용해 test data 하나씩 꺼내옵니다.\n",
    "images, labels = dataiter.next()\n",
    "\n",
    "# print images\n",
    "imshow(torchvision.utils.make_grid(images))\n",
    "print('GroundTruth:', ' '.join('%5s' % classes[labels[j]] for j in range(4))) # 시험용 데이터 4개를 출력합니다."
   ]
  },
  {
   "cell_type": "code",
   "execution_count": 0,
   "metadata": {
    "colab": {},
    "colab_type": "code",
    "id": "pngKINQ8GayC"
   },
   "outputs": [],
   "source": [
    "net = ConvNet()"
   ]
  },
  {
   "cell_type": "code",
   "execution_count": 0,
   "metadata": {
    "colab": {},
    "colab_type": "code",
    "id": "m8Fk_K0ugq6W"
   },
   "outputs": [],
   "source": [
    "outputs = net(images) #output을 저장합니다."
   ]
  },
  {
   "cell_type": "code",
   "execution_count": 100,
   "metadata": {
    "colab": {
     "base_uri": "https://localhost:8080/",
     "height": 56
    },
    "colab_type": "code",
    "executionInfo": {
     "elapsed": 810,
     "status": "ok",
     "timestamp": 1540754115339,
     "user": {
      "displayName": "김태희",
      "photoUrl": "",
      "userId": "11953226521466726862"
     },
     "user_tz": -540
    },
    "id": "uv-OScsPgtGQ",
    "outputId": "65c6c7c9-fc57-4acf-e749-0df16e5fad34"
   },
   "outputs": [
    {
     "name": "stdout",
     "output_type": "stream",
     "text": [
      "tensor([9, 9, 9, 9])\n",
      "Predicted:  truck truck truck truck\n"
     ]
    }
   ],
   "source": [
    "_, predicted = torch.max(outputs,1) # 분류한 10개 class에서 어느 값이 가장 큰지, 몇번째 인덱스인지 알려줍니다.\n",
    "print(predicted)\n",
    "print('Predicted: ', ' '.join('%5s' % classes[predicted[j]] for j in range(4)))"
   ]
  },
  {
   "cell_type": "code",
   "execution_count": 101,
   "metadata": {
    "colab": {
     "base_uri": "https://localhost:8080/",
     "height": 37
    },
    "colab_type": "code",
    "executionInfo": {
     "elapsed": 5711,
     "status": "ok",
     "timestamp": 1540754129106,
     "user": {
      "displayName": "김태희",
      "photoUrl": "",
      "userId": "11953226521466726862"
     },
     "user_tz": -540
    },
    "id": "ODFtyZ0Fgu_h",
    "outputId": "4ce436c9-a086-4be5-bfa1-1ff898711f44"
   },
   "outputs": [
    {
     "name": "stdout",
     "output_type": "stream",
     "text": [
      "Accuracy of the network on the 10000 test images: 10 %\n"
     ]
    }
   ],
   "source": [
    "correct = 0\n",
    "total = 0\n",
    "\n",
    "with torch.no_grad():\n",
    "    for images, labels in testloader:\n",
    "        \n",
    "        outputs = net(images)\n",
    "        _, predicted = torch.max(outputs.data, 1)\n",
    "        total += labels.size(0)\n",
    "        correct += (predicted == labels.long()).sum().item()\n",
    "        \n",
    "print('Accuracy of the network on the 10000 test images: %d %%' % (100 * correct/total))\n",
    "\n",
    "# 전체 데이터 셋에 대해서는 53%의 정확도를 보여줍니다."
   ]
  },
  {
   "cell_type": "code",
   "execution_count": 102,
   "metadata": {
    "colab": {
     "base_uri": "https://localhost:8080/",
     "height": 211
    },
    "colab_type": "code",
    "executionInfo": {
     "elapsed": 5759,
     "status": "ok",
     "timestamp": 1540754136336,
     "user": {
      "displayName": "김태희",
      "photoUrl": "",
      "userId": "11953226521466726862"
     },
     "user_tz": -540
    },
    "id": "XU7BzJe6gwVo",
    "outputId": "aa291d1b-7c5d-4ce9-a8db-c8ce1feb8ef6"
   },
   "outputs": [
    {
     "name": "stdout",
     "output_type": "stream",
     "text": [
      "Accuracy of plane :  0 %\n",
      "Accuracy of   car :  0 %\n",
      "Accuracy of  bird :  0 %\n",
      "Accuracy of   cat :  0 %\n",
      "Accuracy of  deer :  0 %\n",
      "Accuracy of   dog :  0 %\n",
      "Accuracy of  frog :  0 %\n",
      "Accuracy of horse :  0 %\n",
      "Accuracy of  ship :  0 %\n",
      "Accuracy of truck : 100 %\n"
     ]
    }
   ],
   "source": [
    "class_correct = list(0. for i in range(10)) #빈 리스트 생성\n",
    "class_total = list(0. for i in range(10))\n",
    "\n",
    "with torch.no_grad(): #testloader에서 4개씩 불러와 class correct와 class total에 각각 알맞게 더해줍니다.\n",
    "    for data in testloader:\n",
    "        images, labels = data\n",
    "        outputs = net(images)\n",
    "        _, predicted = torch.max(outputs,1)\n",
    "        c = (predicted == labels).squeeze()\n",
    "        for i in range(4):\n",
    "            label = labels[i]\n",
    "            class_correct[label] += c[i].item()\n",
    "            class_total[label] += 1\n",
    "            \n",
    "for i in range(10):\n",
    "    print('Accuracy of %5s : %2d %%' % (classes[i], 100 * class_correct[i] / class_total[i]))"
   ]
  },
  {
   "cell_type": "code",
   "execution_count": 0,
   "metadata": {
    "colab": {},
    "colab_type": "code",
    "id": "XKkwwEZRDiCT"
   },
   "outputs": [],
   "source": []
  }
 ],
 "metadata": {
  "accelerator": "GPU",
  "colab": {
   "name": "2_Classification_with_CNN(CIFAR10).ipynb",
   "provenance": [],
   "version": "0.3.2"
  },
  "kernelspec": {
   "display_name": "Python 3",
   "language": "python",
   "name": "python3"
  },
  "language_info": {
   "codemirror_mode": {
    "name": "ipython",
    "version": 3
   },
   "file_extension": ".py",
   "mimetype": "text/x-python",
   "name": "python",
   "nbconvert_exporter": "python",
   "pygments_lexer": "ipython3",
   "version": "3.6.5"
  },
  "latex_envs": {
   "LaTeX_envs_menu_present": true,
   "autoclose": false,
   "autocomplete": true,
   "bibliofile": "biblio.bib",
   "cite_by": "apalike",
   "current_citInitial": 1,
   "eqLabelWithNumbers": true,
   "eqNumInitial": 1,
   "hotkeys": {
    "equation": "Ctrl-E",
    "itemize": "Ctrl-I"
   },
   "labels_anchors": false,
   "latex_user_defs": false,
   "report_style_numbering": false,
   "user_envs_cfg": false
  },
  "toc": {
   "base_numbering": 1,
   "nav_menu": {},
   "number_sections": true,
   "sideBar": true,
   "skip_h1_title": false,
   "title_cell": "Table of Contents",
   "title_sidebar": "Contents",
   "toc_cell": false,
   "toc_position": {},
   "toc_section_display": true,
   "toc_window_display": false
  },
  "varInspector": {
   "cols": {
    "lenName": 16,
    "lenType": 16,
    "lenVar": 40
   },
   "kernels_config": {
    "python": {
     "delete_cmd_postfix": "",
     "delete_cmd_prefix": "del ",
     "library": "var_list.py",
     "varRefreshCmd": "print(var_dic_list())"
    },
    "r": {
     "delete_cmd_postfix": ") ",
     "delete_cmd_prefix": "rm(",
     "library": "var_list.r",
     "varRefreshCmd": "cat(var_dic_list()) "
    }
   },
   "types_to_exclude": [
    "module",
    "function",
    "builtin_function_or_method",
    "instance",
    "_Feature"
   ],
   "window_display": false
  }
 },
 "nbformat": 4,
 "nbformat_minor": 1
}
