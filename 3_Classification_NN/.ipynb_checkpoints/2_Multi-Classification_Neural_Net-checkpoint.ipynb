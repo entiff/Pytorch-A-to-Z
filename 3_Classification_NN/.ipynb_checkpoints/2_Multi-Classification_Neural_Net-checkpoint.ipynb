{
 "cells": [
  {
   "cell_type": "markdown",
   "metadata": {},
   "source": [
    "# Multiclass Classification - Iris data\n",
    "\n",
    "- 이번에는 0,1분류가 아닌 multiclass에 대한 분류를 해보겠습니다.\n",
    "- 먼저 간단한 iris data를 이용해보겠습니다."
   ]
  },
  {
   "cell_type": "code",
   "execution_count": 1,
   "metadata": {
    "ExecuteTime": {
     "end_time": "2018-10-28T08:28:02.071108Z",
     "start_time": "2018-10-28T08:28:01.727378Z"
    }
   },
   "outputs": [
    {
     "ename": "ModuleNotFoundError",
     "evalue": "No module named 'torch'",
     "output_type": "error",
     "traceback": [
      "\u001b[1;31m---------------------------------------------------------------------------\u001b[0m",
      "\u001b[1;31mModuleNotFoundError\u001b[0m                       Traceback (most recent call last)",
      "\u001b[1;32m<ipython-input-1-d6b815173e9d>\u001b[0m in \u001b[0;36m<module>\u001b[1;34m\u001b[0m\n\u001b[1;32m----> 1\u001b[1;33m \u001b[1;32mimport\u001b[0m \u001b[0mtorch\u001b[0m\u001b[1;33m\u001b[0m\u001b[1;33m\u001b[0m\u001b[0m\n\u001b[0m\u001b[0;32m      2\u001b[0m \u001b[1;32mimport\u001b[0m \u001b[0mtorch\u001b[0m\u001b[1;33m.\u001b[0m\u001b[0mnn\u001b[0m \u001b[1;32mas\u001b[0m \u001b[0mnn\u001b[0m\u001b[1;33m\u001b[0m\u001b[1;33m\u001b[0m\u001b[0m\n\u001b[0;32m      3\u001b[0m \u001b[1;32mfrom\u001b[0m \u001b[0mtorch\u001b[0m\u001b[1;33m.\u001b[0m\u001b[0mautograd\u001b[0m \u001b[1;32mimport\u001b[0m \u001b[0mVariable\u001b[0m\u001b[1;33m\u001b[0m\u001b[1;33m\u001b[0m\u001b[0m\n\u001b[0;32m      4\u001b[0m \u001b[1;32mimport\u001b[0m \u001b[0mtorch\u001b[0m\u001b[1;33m.\u001b[0m\u001b[0moptim\u001b[0m \u001b[1;32mas\u001b[0m \u001b[0moptim\u001b[0m\u001b[1;33m\u001b[0m\u001b[1;33m\u001b[0m\u001b[0m\n\u001b[0;32m      5\u001b[0m \u001b[1;32mimport\u001b[0m \u001b[0mnumpy\u001b[0m \u001b[1;32mas\u001b[0m \u001b[0mnp\u001b[0m\u001b[1;33m\u001b[0m\u001b[1;33m\u001b[0m\u001b[0m\n",
      "\u001b[1;31mModuleNotFoundError\u001b[0m: No module named 'torch'"
     ]
    }
   ],
   "source": [
    "import torch\n",
    "import torch.nn as nn\n",
    "from torch.autograd import Variable\n",
    "import torch.optim as optim\n",
    "import numpy as np\n",
    "import random\n",
    "\n",
    "random.seed(777)\n",
    "torch.manual_seed(777)"
   ]
  },
  {
   "cell_type": "code",
   "execution_count": 2,
   "metadata": {
    "ExecuteTime": {
     "end_time": "2018-10-28T08:29:13.781255Z",
     "start_time": "2018-10-28T08:29:12.074017Z"
    }
   },
   "outputs": [
    {
     "ename": "ModuleNotFoundError",
     "evalue": "No module named 'torch'",
     "output_type": "error",
     "traceback": [
      "\u001b[1;31m---------------------------------------------------------------------------\u001b[0m",
      "\u001b[1;31mModuleNotFoundError\u001b[0m                       Traceback (most recent call last)",
      "\u001b[1;32m<ipython-input-2-febcb7d91186>\u001b[0m in \u001b[0;36m<module>\u001b[1;34m\u001b[0m\n\u001b[0;32m      4\u001b[0m \u001b[1;32mfrom\u001b[0m \u001b[0msklearn\u001b[0m\u001b[1;33m.\u001b[0m\u001b[0mpreprocessing\u001b[0m \u001b[1;32mimport\u001b[0m \u001b[0mnormalize\u001b[0m\u001b[1;33m\u001b[0m\u001b[1;33m\u001b[0m\u001b[0m\n\u001b[0;32m      5\u001b[0m \u001b[1;33m\u001b[0m\u001b[0m\n\u001b[1;32m----> 6\u001b[1;33m \u001b[1;32mfrom\u001b[0m \u001b[0mtorch\u001b[0m\u001b[1;33m.\u001b[0m\u001b[0mutils\u001b[0m\u001b[1;33m.\u001b[0m\u001b[0mdata\u001b[0m \u001b[1;32mimport\u001b[0m \u001b[0mDataset\u001b[0m\u001b[1;33m\u001b[0m\u001b[1;33m\u001b[0m\u001b[0m\n\u001b[0m\u001b[0;32m      7\u001b[0m \u001b[1;32mfrom\u001b[0m \u001b[0mtorch\u001b[0m\u001b[1;33m.\u001b[0m\u001b[0mutils\u001b[0m\u001b[1;33m.\u001b[0m\u001b[0mdata\u001b[0m \u001b[1;32mimport\u001b[0m \u001b[0mDataLoader\u001b[0m\u001b[1;33m\u001b[0m\u001b[1;33m\u001b[0m\u001b[0m\n",
      "\u001b[1;31mModuleNotFoundError\u001b[0m: No module named 'torch'"
     ]
    }
   ],
   "source": [
    "from sklearn.datasets import load_iris\n",
    "from sklearn.model_selection import train_test_split\n",
    "from sklearn.metrics import accuracy_score\n",
    "from sklearn.preprocessing import normalize\n",
    "\n",
    "from torch.utils.data import Dataset\n",
    "from torch.utils.data import DataLoader"
   ]
  },
  {
   "cell_type": "code",
   "execution_count": 3,
   "metadata": {},
   "outputs": [],
   "source": [
    "from sklearn.datasets import load_iris"
   ]
  },
  {
   "cell_type": "markdown",
   "metadata": {},
   "source": [
    "## Load Data & Preprocessing"
   ]
  },
  {
   "cell_type": "code",
   "execution_count": 6,
   "metadata": {
    "ExecuteTime": {
     "end_time": "2018-10-28T08:29:45.021448Z",
     "start_time": "2018-10-28T08:29:45.001076Z"
    }
   },
   "outputs": [
    {
     "data": {
      "text/plain": [
       "array([0, 0, 0, 0, 0, 0, 0, 0, 0, 0, 0, 0, 0, 0, 0, 0, 0, 0, 0, 0, 0, 0,\n",
       "       0, 0, 0, 0, 0, 0, 0, 0, 0, 0, 0, 0, 0, 0, 0, 0, 0, 0, 0, 0, 0, 0,\n",
       "       0, 0, 0, 0, 0, 0, 1, 1, 1, 1, 1, 1, 1, 1, 1, 1, 1, 1, 1, 1, 1, 1,\n",
       "       1, 1, 1, 1, 1, 1, 1, 1, 1, 1, 1, 1, 1, 1, 1, 1, 1, 1, 1, 1, 1, 1,\n",
       "       1, 1, 1, 1, 1, 1, 1, 1, 1, 1, 1, 1, 2, 2, 2, 2, 2, 2, 2, 2, 2, 2,\n",
       "       2, 2, 2, 2, 2, 2, 2, 2, 2, 2, 2, 2, 2, 2, 2, 2, 2, 2, 2, 2, 2, 2,\n",
       "       2, 2, 2, 2, 2, 2, 2, 2, 2, 2, 2, 2, 2, 2, 2, 2, 2, 2])"
      ]
     },
     "execution_count": 6,
     "metadata": {},
     "output_type": "execute_result"
    }
   ],
   "source": [
    "iris = load_iris()\n",
    "iris.target"
   ]
  },
  {
   "cell_type": "code",
   "execution_count": 7,
   "metadata": {
    "ExecuteTime": {
     "end_time": "2018-10-28T08:30:11.652521Z",
     "start_time": "2018-10-28T08:30:11.646521Z"
    }
   },
   "outputs": [],
   "source": [
    "# train과 test set을 분리합니다.\n",
    "\n",
    "train_X, test_X, train_y, test_y = train_test_split(iris.data, iris.target, test_size=0.3)"
   ]
  },
  {
   "cell_type": "code",
   "execution_count": 8,
   "metadata": {
    "ExecuteTime": {
     "end_time": "2018-10-28T08:30:12.571719Z",
     "start_time": "2018-10-28T08:30:12.562824Z"
    }
   },
   "outputs": [
    {
     "data": {
      "text/plain": [
       "array([1, 1, 0, 1, 0, 0, 0, 0, 2, 0, 1, 2, 0, 1, 2, 0, 0, 0, 1, 2, 1, 1,\n",
       "       0, 2, 2, 0, 2, 0, 1, 1, 2, 0, 0, 2, 1, 0, 1, 1, 2, 2, 1, 0, 2, 1,\n",
       "       2, 1, 2, 0, 2, 0, 1, 1, 1, 2, 0, 0, 2, 1, 1, 1, 1, 2, 0, 1, 0, 0,\n",
       "       2, 0, 0, 1, 0, 2, 0, 0, 2, 2, 2, 1, 2, 2, 2, 2, 2, 1, 2, 1, 1, 0,\n",
       "       0, 2, 2, 2, 1, 1, 1, 0, 0, 0, 0, 0, 2, 0, 2, 2, 2])"
      ]
     },
     "execution_count": 8,
     "metadata": {},
     "output_type": "execute_result"
    }
   ],
   "source": [
    "train_y"
   ]
  },
  {
   "cell_type": "code",
   "execution_count": 9,
   "metadata": {
    "ExecuteTime": {
     "end_time": "2018-10-28T08:32:09.488229Z",
     "start_time": "2018-10-28T08:32:09.482781Z"
    }
   },
   "outputs": [],
   "source": [
    "# 이제 익숙해지고 계신가요?\n",
    "\n",
    "class makeData(Dataset):\n",
    "    def __init__(self, X_data, y_data):\n",
    "        self.X_data = X_data\n",
    "        self.y_data = y_data\n",
    "        \n",
    "    def __getitem__(self, index):\n",
    "        return self.X_data[index], self.y_data[index]\n",
    "        \n",
    "    def __len__ (self):\n",
    "        return len(self.X_data)"
   ]
  },
  {
   "cell_type": "code",
   "execution_count": 10,
   "metadata": {
    "ExecuteTime": {
     "end_time": "2018-10-28T08:32:13.042718Z",
     "start_time": "2018-10-28T08:32:13.037296Z"
    }
   },
   "outputs": [],
   "source": [
    "# normalize은 기본적으로 열(column)기준입니다.\n",
    "\n",
    "train_data = makeData(np.array(normalize(train_X)), np.array(train_y))\n",
    "test_data = makeData(np.array(normalize(test_X)), np.array(test_y))"
   ]
  },
  {
   "cell_type": "code",
   "execution_count": 11,
   "metadata": {
    "ExecuteTime": {
     "end_time": "2018-10-28T08:32:14.900167Z",
     "start_time": "2018-10-28T08:32:14.893178Z"
    },
    "scrolled": true
   },
   "outputs": [
    {
     "data": {
      "text/plain": [
       "(array([0.74714194, 0.33960997, 0.54337595, 0.17659719]), 1)"
      ]
     },
     "execution_count": 11,
     "metadata": {},
     "output_type": "execute_result"
    }
   ],
   "source": [
    "train_data.__getitem__(0)"
   ]
  },
  {
   "cell_type": "code",
   "execution_count": 12,
   "metadata": {
    "ExecuteTime": {
     "end_time": "2018-10-28T08:32:16.261032Z",
     "start_time": "2018-10-28T08:32:16.255080Z"
    }
   },
   "outputs": [
    {
     "data": {
      "text/plain": [
       "105"
      ]
     },
     "execution_count": 12,
     "metadata": {},
     "output_type": "execute_result"
    }
   ],
   "source": [
    "train_data.__len__()"
   ]
  },
  {
   "cell_type": "markdown",
   "metadata": {},
   "source": [
    "## Modeling"
   ]
  },
  {
   "cell_type": "code",
   "execution_count": 13,
   "metadata": {
    "ExecuteTime": {
     "end_time": "2018-10-28T08:44:54.865385Z",
     "start_time": "2018-10-28T08:44:54.853445Z"
    }
   },
   "outputs": [],
   "source": [
    "class Multiclass_Classification(nn.Module):\n",
    "    \n",
    "    def __init__(self, num_feature, num_class):\n",
    "        super(Multiclass_Classification, self).__init__()\n",
    "        \n",
    "        # 이전 예제에서는 __init__에 self만 있었습니다.\n",
    "        # 이제는 넣고 싶은 feature의 개수와 class를 자유롭게 하기 위해 변수로 지정합니다.\n",
    "        # Layer 역시 활성화 함수를 ReLU로 변경하고 Layer 안에 넣어 좀 더 짧은 코드로 신경망을 구성했습니다.\n",
    "        \n",
    "        self.Layer_1 = nn.Sequential(\n",
    "                                nn.Linear(num_feature, 100),\n",
    "                                nn.ReLU()\n",
    "                            )\n",
    "        self.Layer_2 = nn.Sequential(\n",
    "                                nn.Linear(100, 50),\n",
    "                                nn.ReLU()\n",
    "                            )\n",
    "        \n",
    "        self.Layer_3 = nn.Sequential(\n",
    "                                nn.Linear(50, 30),\n",
    "                                nn.ReLU()\n",
    "                            )\n",
    "        \n",
    "        self.dropout = nn.Dropout(0.5)\n",
    "        \n",
    "        self.out = nn.Linear(30, num_class)\n",
    "        \n",
    "    def forward(self, inputs):\n",
    "        \n",
    "        x = self.Layer_1(inputs)\n",
    "        x = self.Layer_2(x)\n",
    "        x = self.Layer_3(x)\n",
    "        \n",
    "        x = self.out(x)\n",
    "        \n",
    "        return x\n",
    "    \n",
    "    def predict(self, test_inputs):\n",
    "        \n",
    "        x = self.Layer_1(inputs)\n",
    "        x = self.Layer_2(x)\n",
    "        x = self.Layer_3(x)\n",
    "        \n",
    "        x = self.out(x)\n",
    "        \n",
    "        # 1차원의 최대값 위치들을 출력합니다.\n",
    "        \n",
    "        return torch.max(x, 1)[1]"
   ]
  },
  {
   "cell_type": "markdown",
   "metadata": {},
   "source": [
    "## Training"
   ]
  },
  {
   "cell_type": "code",
   "execution_count": 15,
   "metadata": {
    "ExecuteTime": {
     "end_time": "2018-10-28T08:55:03.482214Z",
     "start_time": "2018-10-28T08:54:55.045775Z"
    },
    "scrolled": true
   },
   "outputs": [
    {
     "name": "stdout",
     "output_type": "stream",
     "text": [
      "tensor(1.0754, grad_fn=<NllLossBackward>)\n",
      "tensor(0.1792, grad_fn=<NllLossBackward>)\n",
      "tensor(0.0336, grad_fn=<NllLossBackward>)\n",
      "tensor(0.0219, grad_fn=<NllLossBackward>)\n",
      "tensor(0.0289, grad_fn=<NllLossBackward>)\n",
      "tensor(0.0196, grad_fn=<NllLossBackward>)\n",
      "tensor(0.0973, grad_fn=<NllLossBackward>)\n",
      "tensor(0.1993, grad_fn=<NllLossBackward>)\n",
      "tensor(0.0204, grad_fn=<NllLossBackward>)\n",
      "tensor(0.0810, grad_fn=<NllLossBackward>)\n"
     ]
    }
   ],
   "source": [
    "# 30개씩 1000번 학습시켜보겠습니다.\n",
    "\n",
    "EPOCHS = 1000\n",
    "BATCH_SIZE = 30\n",
    "NUM_FEATURE = 4\n",
    "NUM_CLASS = 3\n",
    "\n",
    "model = Multiclass_Classification(NUM_FEATURE, NUM_CLASS)\n",
    "\n",
    "# pytorch에서는 NLL loss + log softmax가 이미 적용되어 있습니다.\n",
    "criterion = nn.CrossEntropyLoss()\n",
    "\n",
    "train_loader = DataLoader(dataset=train_data, batch_size=BATCH_SIZE, shuffle=True)\n",
    "\n",
    "optimizer = optim.Adam(model.parameters(), lr=0.001)\n",
    "\n",
    "for epoch in range(EPOCHS):\n",
    "    \n",
    "    for X_batch, y_batch in train_loader:\n",
    "        \n",
    "        #torch.tensor는 기본적으로 float로 들어갑니다.\n",
    "        \n",
    "        inputs = torch.Tensor(X_batch.float())\n",
    "        targets = torch.LongTensor(y_batch.long())\n",
    "        model.zero_grad()\n",
    "        y_pred = model(inputs)\n",
    "        loss = criterion(y_pred, targets)\n",
    "        loss.backward()\n",
    "        optimizer.step()\n",
    "    \n",
    "    if epoch % 100 == 0:\n",
    "        print(loss)"
   ]
  },
  {
   "cell_type": "markdown",
   "metadata": {},
   "source": [
    "## Test Accuracy"
   ]
  },
  {
   "cell_type": "code",
   "execution_count": 16,
   "metadata": {
    "ExecuteTime": {
     "end_time": "2018-10-28T08:55:16.657325Z",
     "start_time": "2018-10-28T08:55:16.636003Z"
    }
   },
   "outputs": [],
   "source": [
    "test_loader = DataLoader(dataset=test_data, batch_size=1)\n",
    "\n",
    "test_y_true = []\n",
    "test_y_pred = []\n",
    "\n",
    "for X_batch, y_batch in test_loader:\n",
    "    \n",
    "    inputs = torch.Tensor(X_batch.float())\n",
    "    test_y_true.append(y_batch.item())\n",
    "    y_pred = model.predict(inputs)\n",
    "    test_y_pred.append(int(y_pred.item()))"
   ]
  },
  {
   "cell_type": "code",
   "execution_count": 17,
   "metadata": {
    "ExecuteTime": {
     "end_time": "2018-10-28T08:55:17.324244Z",
     "start_time": "2018-10-28T08:55:17.319619Z"
    }
   },
   "outputs": [
    {
     "name": "stdout",
     "output_type": "stream",
     "text": [
      "[2, 1, 1, 0, 2, 0, 1, 1, 0, 2, 1, 1, 1, 1, 1, 2, 2, 1, 1, 0, 2, 0, 1, 0, 0, 1, 2, 2, 0, 0, 1, 2, 1, 0, 0, 2, 1, 1, 1, 0, 1, 2, 0, 2, 2]\n"
     ]
    }
   ],
   "source": [
    "print(test_y_pred)"
   ]
  },
  {
   "cell_type": "code",
   "execution_count": 18,
   "metadata": {
    "ExecuteTime": {
     "end_time": "2018-10-28T08:55:18.948304Z",
     "start_time": "2018-10-28T08:55:18.944645Z"
    }
   },
   "outputs": [
    {
     "name": "stdout",
     "output_type": "stream",
     "text": [
      "[2, 1, 1, 0, 2, 0, 2, 1, 0, 2, 1, 1, 1, 1, 1, 2, 2, 1, 1, 0, 1, 0, 2, 0, 0, 1, 2, 2, 0, 0, 1, 2, 1, 0, 0, 2, 1, 1, 1, 0, 1, 2, 0, 2, 2]\n"
     ]
    }
   ],
   "source": [
    "print(test_y_true)"
   ]
  },
  {
   "cell_type": "code",
   "execution_count": 19,
   "metadata": {
    "ExecuteTime": {
     "end_time": "2018-10-28T08:55:19.462746Z",
     "start_time": "2018-10-28T08:55:19.456298Z"
    }
   },
   "outputs": [
    {
     "data": {
      "text/plain": [
       "0.9333333333333333"
      ]
     },
     "execution_count": 19,
     "metadata": {},
     "output_type": "execute_result"
    }
   ],
   "source": [
    "# 약 93.3%의 정확도를 보입니다.\n",
    "\n",
    "accuracy_score(test_y_pred, test_y_true)"
   ]
  },
  {
   "cell_type": "markdown",
   "metadata": {},
   "source": [
    "# Multi-Classification_wine_quality\n",
    "\n",
    "- feature가 좀 더 많은 wine quality 데이터를 이용해 wine quality 분류 문제를 풀어보겠습니다."
   ]
  },
  {
   "cell_type": "code",
   "execution_count": 20,
   "metadata": {
    "ExecuteTime": {
     "end_time": "2018-10-28T08:56:12.457365Z",
     "start_time": "2018-10-28T08:56:11.866620Z"
    }
   },
   "outputs": [],
   "source": [
    "import pandas as pd"
   ]
  },
  {
   "cell_type": "code",
   "execution_count": 21,
   "metadata": {
    "ExecuteTime": {
     "end_time": "2018-10-28T08:56:13.536875Z",
     "start_time": "2018-10-28T08:56:13.511119Z"
    }
   },
   "outputs": [],
   "source": [
    "wine = pd.read_csv('./2_winequality-red.csv', sep=';')"
   ]
  },
  {
   "cell_type": "code",
   "execution_count": 22,
   "metadata": {
    "ExecuteTime": {
     "end_time": "2018-10-28T08:56:14.710766Z",
     "start_time": "2018-10-28T08:56:14.685421Z"
    }
   },
   "outputs": [
    {
     "data": {
      "text/html": [
       "<div>\n",
       "<style scoped>\n",
       "    .dataframe tbody tr th:only-of-type {\n",
       "        vertical-align: middle;\n",
       "    }\n",
       "\n",
       "    .dataframe tbody tr th {\n",
       "        vertical-align: top;\n",
       "    }\n",
       "\n",
       "    .dataframe thead th {\n",
       "        text-align: right;\n",
       "    }\n",
       "</style>\n",
       "<table border=\"1\" class=\"dataframe\">\n",
       "  <thead>\n",
       "    <tr style=\"text-align: right;\">\n",
       "      <th></th>\n",
       "      <th>fixed acidity</th>\n",
       "      <th>volatile acidity</th>\n",
       "      <th>citric acid</th>\n",
       "      <th>residual sugar</th>\n",
       "      <th>chlorides</th>\n",
       "      <th>free sulfur dioxide</th>\n",
       "      <th>total sulfur dioxide</th>\n",
       "      <th>density</th>\n",
       "      <th>pH</th>\n",
       "      <th>sulphates</th>\n",
       "      <th>alcohol</th>\n",
       "      <th>quality</th>\n",
       "    </tr>\n",
       "  </thead>\n",
       "  <tbody>\n",
       "    <tr>\n",
       "      <th>0</th>\n",
       "      <td>7.4</td>\n",
       "      <td>0.70</td>\n",
       "      <td>0.00</td>\n",
       "      <td>1.9</td>\n",
       "      <td>0.076</td>\n",
       "      <td>11.0</td>\n",
       "      <td>34.0</td>\n",
       "      <td>0.9978</td>\n",
       "      <td>3.51</td>\n",
       "      <td>0.56</td>\n",
       "      <td>9.4</td>\n",
       "      <td>5</td>\n",
       "    </tr>\n",
       "    <tr>\n",
       "      <th>1</th>\n",
       "      <td>7.8</td>\n",
       "      <td>0.88</td>\n",
       "      <td>0.00</td>\n",
       "      <td>2.6</td>\n",
       "      <td>0.098</td>\n",
       "      <td>25.0</td>\n",
       "      <td>67.0</td>\n",
       "      <td>0.9968</td>\n",
       "      <td>3.20</td>\n",
       "      <td>0.68</td>\n",
       "      <td>9.8</td>\n",
       "      <td>5</td>\n",
       "    </tr>\n",
       "    <tr>\n",
       "      <th>2</th>\n",
       "      <td>7.8</td>\n",
       "      <td>0.76</td>\n",
       "      <td>0.04</td>\n",
       "      <td>2.3</td>\n",
       "      <td>0.092</td>\n",
       "      <td>15.0</td>\n",
       "      <td>54.0</td>\n",
       "      <td>0.9970</td>\n",
       "      <td>3.26</td>\n",
       "      <td>0.65</td>\n",
       "      <td>9.8</td>\n",
       "      <td>5</td>\n",
       "    </tr>\n",
       "    <tr>\n",
       "      <th>3</th>\n",
       "      <td>11.2</td>\n",
       "      <td>0.28</td>\n",
       "      <td>0.56</td>\n",
       "      <td>1.9</td>\n",
       "      <td>0.075</td>\n",
       "      <td>17.0</td>\n",
       "      <td>60.0</td>\n",
       "      <td>0.9980</td>\n",
       "      <td>3.16</td>\n",
       "      <td>0.58</td>\n",
       "      <td>9.8</td>\n",
       "      <td>6</td>\n",
       "    </tr>\n",
       "    <tr>\n",
       "      <th>4</th>\n",
       "      <td>7.4</td>\n",
       "      <td>0.70</td>\n",
       "      <td>0.00</td>\n",
       "      <td>1.9</td>\n",
       "      <td>0.076</td>\n",
       "      <td>11.0</td>\n",
       "      <td>34.0</td>\n",
       "      <td>0.9978</td>\n",
       "      <td>3.51</td>\n",
       "      <td>0.56</td>\n",
       "      <td>9.4</td>\n",
       "      <td>5</td>\n",
       "    </tr>\n",
       "  </tbody>\n",
       "</table>\n",
       "</div>"
      ],
      "text/plain": [
       "   fixed acidity  volatile acidity  citric acid  residual sugar  chlorides  \\\n",
       "0            7.4              0.70         0.00             1.9      0.076   \n",
       "1            7.8              0.88         0.00             2.6      0.098   \n",
       "2            7.8              0.76         0.04             2.3      0.092   \n",
       "3           11.2              0.28         0.56             1.9      0.075   \n",
       "4            7.4              0.70         0.00             1.9      0.076   \n",
       "\n",
       "   free sulfur dioxide  total sulfur dioxide  density    pH  sulphates  \\\n",
       "0                 11.0                  34.0   0.9978  3.51       0.56   \n",
       "1                 25.0                  67.0   0.9968  3.20       0.68   \n",
       "2                 15.0                  54.0   0.9970  3.26       0.65   \n",
       "3                 17.0                  60.0   0.9980  3.16       0.58   \n",
       "4                 11.0                  34.0   0.9978  3.51       0.56   \n",
       "\n",
       "   alcohol  quality  \n",
       "0      9.4        5  \n",
       "1      9.8        5  \n",
       "2      9.8        5  \n",
       "3      9.8        6  \n",
       "4      9.4        5  "
      ]
     },
     "execution_count": 22,
     "metadata": {},
     "output_type": "execute_result"
    }
   ],
   "source": [
    "wine.head()"
   ]
  },
  {
   "cell_type": "code",
   "execution_count": 23,
   "metadata": {
    "ExecuteTime": {
     "end_time": "2018-10-28T08:56:20.134711Z",
     "start_time": "2018-10-28T08:56:20.118388Z"
    }
   },
   "outputs": [],
   "source": [
    "train_X, test_X, train_y, test_y = train_test_split(wine.iloc[:,range(11)], wine.iloc[:,-1], test_size=0.3)"
   ]
  },
  {
   "cell_type": "code",
   "execution_count": 24,
   "metadata": {
    "ExecuteTime": {
     "end_time": "2018-10-28T08:56:24.486656Z",
     "start_time": "2018-10-28T08:56:24.480125Z"
    }
   },
   "outputs": [],
   "source": [
    "class makeData(Dataset):\n",
    "    def __init__(self, X_data, y_data):\n",
    "        self.X_data = X_data\n",
    "        self.y_data = y_data\n",
    "        \n",
    "    def __getitem__(self, index):\n",
    "        return self.X_data[index], self.y_data[index]\n",
    "        \n",
    "    def __len__ (self):\n",
    "        return len(self.X_data)"
   ]
  },
  {
   "cell_type": "code",
   "execution_count": 25,
   "metadata": {
    "ExecuteTime": {
     "end_time": "2018-10-28T08:58:32.049667Z",
     "start_time": "2018-10-28T08:58:32.029304Z"
    }
   },
   "outputs": [],
   "source": [
    "# normalize까지만 해보겠습니다. 열 기준이기 때문에 바로 넣어도 괜찮습니다.\n",
    "\n",
    "train_data = makeData(np.array(normalize(train_X)), np.array(train_y))\n",
    "test_data = makeData(np.array(normalize(test_X)), np.array(test_y))"
   ]
  },
  {
   "cell_type": "code",
   "execution_count": 26,
   "metadata": {
    "ExecuteTime": {
     "end_time": "2018-10-28T08:58:54.230304Z",
     "start_time": "2018-10-28T08:58:54.223361Z"
    }
   },
   "outputs": [
    {
     "data": {
      "text/plain": [
       "(array([1.00918407e-01, 8.48299649e-03, 1.46258560e-04, 2.77891264e-02,\n",
       "        1.17006848e-03, 5.85034241e-01, 7.89796225e-01, 1.45794921e-02,\n",
       "        4.97279105e-02, 1.06768749e-02, 1.41870803e-01]), 5)"
      ]
     },
     "execution_count": 26,
     "metadata": {},
     "output_type": "execute_result"
    }
   ],
   "source": [
    "train_data.__getitem__(0)"
   ]
  },
  {
   "cell_type": "code",
   "execution_count": 27,
   "metadata": {
    "ExecuteTime": {
     "end_time": "2018-10-28T08:59:00.613149Z",
     "start_time": "2018-10-28T08:59:00.606808Z"
    }
   },
   "outputs": [
    {
     "data": {
      "text/plain": [
       "1119"
      ]
     },
     "execution_count": 27,
     "metadata": {},
     "output_type": "execute_result"
    }
   ],
   "source": [
    "train_data.__len__()"
   ]
  },
  {
   "cell_type": "code",
   "execution_count": 37,
   "metadata": {
    "ExecuteTime": {
     "end_time": "2018-10-28T09:23:47.649813Z",
     "start_time": "2018-10-28T09:23:47.637453Z"
    }
   },
   "outputs": [],
   "source": [
    "class Multiclass_Classification(nn.Module):\n",
    "    def __init__(self, num_feature, num_class):\n",
    "        \n",
    "        super(Multiclass_Classification, self).__init__()\n",
    "        \n",
    "        self.Layer_1 = nn.Sequential(\n",
    "                                nn.Linear(num_feature, 10),\n",
    "                                nn.ReLU()\n",
    "                            )\n",
    "        self.Layer_2 = nn.Sequential(\n",
    "                                nn.Linear(10, 10),\n",
    "                                nn.ReLU()\n",
    "                            )\n",
    "        \n",
    "        self.Layer_3 = nn.Sequential(\n",
    "                                nn.Linear(10, 10),\n",
    "                                nn.ReLU()\n",
    "                            )\n",
    "        self.out = nn.Linear(10, num_class)\n",
    "        \n",
    "    def forward(self, inputs):\n",
    "        \n",
    "        x = self.Layer_1(inputs)\n",
    "        x = self.Layer_2(x)\n",
    "        x = self.Layer_3(x)\n",
    "        x = self.out(x)\n",
    "        \n",
    "        return x\n",
    "    \n",
    "    def predict(self, test_inputs):\n",
    "        \n",
    "        x = self.Layer_1(inputs)\n",
    "        x = self.Layer_2(x)\n",
    "        x = self.Layer_3(x)\n",
    "        x = self.out(x)\n",
    "        \n",
    "        return torch.max(x, 1)[1]"
   ]
  },
  {
   "cell_type": "code",
   "execution_count": 38,
   "metadata": {
    "ExecuteTime": {
     "end_time": "2018-10-28T09:24:08.384832Z",
     "start_time": "2018-10-28T09:23:49.159349Z"
    }
   },
   "outputs": [
    {
     "name": "stdout",
     "output_type": "stream",
     "text": [
      "tensor(2.2257, grad_fn=<NllLossBackward>)\n"
     ]
    }
   ],
   "source": [
    "EPOCHS = 200\n",
    "BATCH_SIZE = 20\n",
    "NUM_FEATURE = 11\n",
    "NUM_CLASS = 11\n",
    "\n",
    "model = Multiclass_Classification(NUM_FEATURE, NUM_CLASS)\n",
    "\n",
    "criterion = nn.CrossEntropyLoss()\n",
    "\n",
    "train_loader = DataLoader(dataset=train_data, batch_size=BATCH_SIZE, shuffle=True)\n",
    "\n",
    "optimizer = optim.Adam(model.parameters(), lr=0.001)\n",
    "\n",
    "for epoch in range(EPOCHS):\n",
    "    for X_batch, y_batch in train_loader:\n",
    "        \n",
    "        inputs = Variable(torch.Tensor(X_batch.float()))\n",
    "        targets = Variable(torch.LongTensor(y_batch.long()))\n",
    "        \n",
    "        model.zero_grad()\n",
    "        y_pred = model(inputs)\n",
    "        \n",
    "        loss = criterion(y_pred, targets)\n",
    "        loss.backward()\n",
    "        optimizer.step()\n",
    "    \n",
    "    if epoch % 100 == 0:\n",
    "        print(loss)"
   ]
  },
  {
   "cell_type": "code",
   "execution_count": 39,
   "metadata": {
    "ExecuteTime": {
     "end_time": "2018-10-28T09:24:15.472907Z",
     "start_time": "2018-10-28T09:24:15.379580Z"
    }
   },
   "outputs": [],
   "source": [
    "test_loader = DataLoader(dataset=test_data, batch_size=1)\n",
    "test_y_true = []\n",
    "test_y_pred = []\n",
    "\n",
    "for X_batch, y_batch in test_loader:\n",
    "    \n",
    "    inputs = Variable(torch.Tensor(X_batch.float()))\n",
    "    test_y_true.append(y_batch.item())\n",
    "    y_pred = model.predict(inputs)\n",
    "    test_y_pred.append(int(y_pred.item()))"
   ]
  },
  {
   "cell_type": "code",
   "execution_count": 40,
   "metadata": {
    "ExecuteTime": {
     "end_time": "2018-10-28T09:24:18.372997Z",
     "start_time": "2018-10-28T09:24:18.367540Z"
    }
   },
   "outputs": [
    {
     "data": {
      "text/plain": [
       "0.36875"
      ]
     },
     "execution_count": 40,
     "metadata": {},
     "output_type": "execute_result"
    }
   ],
   "source": [
    "# 36.8%의 accuracy가 나왔습니다. \n",
    "\n",
    "accuracy_score(test_y_pred, test_y_true)"
   ]
  },
  {
   "cell_type": "code",
   "execution_count": null,
   "metadata": {},
   "outputs": [],
   "source": []
  }
 ],
 "metadata": {
  "kernelspec": {
   "display_name": "Python 3",
   "language": "python",
   "name": "python3"
  },
  "language_info": {
   "codemirror_mode": {
    "name": "ipython",
    "version": 3
   },
   "file_extension": ".py",
   "mimetype": "text/x-python",
   "name": "python",
   "nbconvert_exporter": "python",
   "pygments_lexer": "ipython3",
   "version": "3.7.0"
  },
  "latex_envs": {
   "LaTeX_envs_menu_present": true,
   "autoclose": false,
   "autocomplete": true,
   "bibliofile": "biblio.bib",
   "cite_by": "apalike",
   "current_citInitial": 1,
   "eqLabelWithNumbers": true,
   "eqNumInitial": 1,
   "hotkeys": {
    "equation": "Ctrl-E",
    "itemize": "Ctrl-I"
   },
   "labels_anchors": false,
   "latex_user_defs": false,
   "report_style_numbering": false,
   "user_envs_cfg": false
  },
  "toc": {
   "base_numbering": 1,
   "nav_menu": {},
   "number_sections": true,
   "sideBar": true,
   "skip_h1_title": false,
   "title_cell": "Table of Contents",
   "title_sidebar": "Contents",
   "toc_cell": false,
   "toc_position": {},
   "toc_section_display": true,
   "toc_window_display": false
  },
  "varInspector": {
   "cols": {
    "lenName": 16,
    "lenType": 16,
    "lenVar": 40
   },
   "kernels_config": {
    "python": {
     "delete_cmd_postfix": "",
     "delete_cmd_prefix": "del ",
     "library": "var_list.py",
     "varRefreshCmd": "print(var_dic_list())"
    },
    "r": {
     "delete_cmd_postfix": ") ",
     "delete_cmd_prefix": "rm(",
     "library": "var_list.r",
     "varRefreshCmd": "cat(var_dic_list()) "
    }
   },
   "types_to_exclude": [
    "module",
    "function",
    "builtin_function_or_method",
    "instance",
    "_Feature"
   ],
   "window_display": false
  }
 },
 "nbformat": 4,
 "nbformat_minor": 2
}
