{
 "cells": [
  {
   "cell_type": "markdown",
   "metadata": {},
   "source": [
    "# Simple Linear Regression with Neural Net"
   ]
  },
  {
   "cell_type": "code",
   "execution_count": 115,
   "metadata": {
    "ExecuteTime": {
     "end_time": "2018-11-11T11:55:01.956339Z",
     "start_time": "2018-11-11T11:54:59.446365Z"
    }
   },
   "outputs": [],
   "source": [
    "import torch\n",
    "import torch.nn as nn\n",
    "import torch.optim as optim"
   ]
  },
  {
   "cell_type": "code",
   "execution_count": 116,
   "metadata": {
    "ExecuteTime": {
     "end_time": "2018-11-11T11:55:01.984896Z",
     "start_time": "2018-11-11T11:55:01.969028Z"
    }
   },
   "outputs": [],
   "source": [
    "# 일반적으로 python의 class를 이용해 모델을 구현합니다.\n",
    "# 일반적으로__init__, forward, predict 등으로 이루어져 있습니다.\n",
    "# class에 대한 내용은 https://wikidocs.net/28 을 참고하면 되겠습니다.\n",
    "\n",
    "class SimpleLinearRegression(nn.Module):\n",
    "    def __init__(self):\n",
    "        super(SimpleLinearRegression, self).__init__()\n",
    "        self.Layer = nn.Linear(1, 1) # feature가 1이고 output 역시 1개이기 때문에 (1,1)입니다.\n",
    "    \n",
    "    #feed forward\n",
    "    def forward(self, inputs):\n",
    "        x = self.Layer(inputs)\n",
    "        return x\n",
    "    \n",
    "    def predict(self, test_input):\n",
    "        x = self.Layer(test_input)\n",
    "        return x\n",
    "\n",
    "\n",
    "model = SimpleLinearRegression() # 객체 설정\n",
    "criterion = nn.MSELoss() # regression의 loss function은 MSE입니다(mean squared error)\n",
    "\n",
    "# gradient descent로 w,b를 찾고 optimizer는 stochastic gradient descent를 사용해보겠습니다.\n",
    "# momentum은 관성을 추가하는 내용입니다. 학습 속도를 위해 추가했습니다.\n",
    "optimizer = optim.SGD(model.parameters(), lr=0.01, momentum = 0.9)\n",
    "# optimizer = optim.SGD(model.parameters(), lr=0.01)"
   ]
  },
  {
   "cell_type": "code",
   "execution_count": 117,
   "metadata": {
    "ExecuteTime": {
     "end_time": "2018-11-11T11:55:13.174175Z",
     "start_time": "2018-11-11T11:55:12.742657Z"
    }
   },
   "outputs": [
    {
     "name": "stdout",
     "output_type": "stream",
     "text": [
      "tensor(30.3540, grad_fn=<MseLossBackward>)\n",
      "tensor(6.4978e-07, grad_fn=<MseLossBackward>)\n",
      "tensor(4.5475e-13, grad_fn=<MseLossBackward>)\n",
      "tensor(0., grad_fn=<MseLossBackward>)\n",
      "tensor(0., grad_fn=<MseLossBackward>)\n"
     ]
    }
   ],
   "source": [
    "for i in range(1000):\n",
    "    \n",
    "    # y = 2x + 0.1\n",
    "    # input은 일정하게 1.0, 2.0, 3.0이 들어가고 target은 2.1,4.1,6.1입니다.\n",
    "    # 우리가 원하는 것은 w,b가 1000번의 학습을 통해 2와 0.1이 되는 것입니다.\n",
    "    inputs = torch.Tensor([1.0, 2.0, 3.0]).unsqueeze(1)\n",
    "    targets = torch.Tensor([2.1, 4.1, 6.1]).unsqueeze(1)\n",
    "                          \n",
    "    model.zero_grad()\n",
    "    y_pred = model(inputs)\n",
    "    \n",
    "    loss = criterion(y_pred, targets)\n",
    "    loss.backward()\n",
    "    \n",
    "    # 계산된 gradient를 기반으로 optimizer를 이용해 w와 b를 update 합니다.\n",
    "    optimizer.step()\n",
    "    \n",
    "    if i % 200 == 0:\n",
    "        print(loss)"
   ]
  },
  {
   "cell_type": "code",
   "execution_count": 118,
   "metadata": {
    "ExecuteTime": {
     "end_time": "2018-11-11T11:55:16.049087Z",
     "start_time": "2018-11-11T11:55:16.042087Z"
    }
   },
   "outputs": [
    {
     "name": "stdout",
     "output_type": "stream",
     "text": [
      "[Parameter containing:\n",
      "tensor([[2.]], requires_grad=True), Parameter containing:\n",
      "tensor([0.1000], requires_grad=True)]\n"
     ]
    }
   ],
   "source": [
    "# 1000번 학습한 결과 w는 2, b는 0.1이 되었습니다.\n",
    "w = list(model.parameters())\n",
    "print(w)"
   ]
  },
  {
   "cell_type": "code",
   "execution_count": 119,
   "metadata": {
    "ExecuteTime": {
     "end_time": "2018-11-11T11:55:16.532133Z",
     "start_time": "2018-11-11T11:55:16.502371Z"
    }
   },
   "outputs": [
    {
     "data": {
      "text/plain": [
       "tensor([20.1000], grad_fn=<AddBackward0>)"
      ]
     },
     "execution_count": 119,
     "metadata": {},
     "output_type": "execute_result"
    }
   ],
   "source": [
    "model.predict(torch.Tensor([10.0]))"
   ]
  },
  {
   "cell_type": "markdown",
   "metadata": {},
   "source": [
    "# Simple Linear Regression in Statistics\n",
    "\n",
    "- 통계학에서 배운 OLS(ordinary least square) 방식의 simple linear regression(단순선형회귀)과 비교해보겠습니다."
   ]
  },
  {
   "cell_type": "code",
   "execution_count": 120,
   "metadata": {
    "ExecuteTime": {
     "end_time": "2018-11-11T11:57:45.452529Z",
     "start_time": "2018-11-11T11:57:45.289841Z"
    }
   },
   "outputs": [
    {
     "data": {
      "image/png": "[encoded data removed]",
      "text/plain": [
       "<Figure size 432x288 with 1 Axes>"
      ]
     },
     "metadata": {
      "needs_background": "light"
     },
     "output_type": "display_data"
    }
   ],
   "source": [
    "%matplotlib inline\n",
    "from sklearn.datasets import make_regression\n",
    "from sklearn.linear_model import LinearRegression\n",
    "from sklearn.metrics import mean_squared_error, r2_score\n",
    "from sklearn.metrics import roc_auc_score\n",
    "\n",
    "import numpy as np\n",
    "import matplotlib.pyplot as plt\n",
    "import random\n",
    "\n",
    "seed = 1215\n",
    "np.random.seed(seed)\n",
    "\n",
    "# 단순 선형 회귀를 위한 임의의 데이터셋을 생성합니다.\n",
    "X, y = make_regression(n_samples=300, n_features=1, noise=30.0, random_state=seed)\n",
    "\n",
    "X_train = X[:200]\n",
    "X_test = X[200:]\n",
    "y_train = y[:200]\n",
    "y_test = y[200:]\n",
    "\n",
    "\n",
    "# 산점도를 그려보겠습니다.\n",
    "\n",
    "plt.scatter(X_train,y_train, c=\"r\")\n",
    "plt.scatter(X_test,y_test, c=\"b\")\n",
    "plt.legend([\"train\", \"test\"])\n",
    "plt.show()"
   ]
  },
  {
   "cell_type": "code",
   "execution_count": 121,
   "metadata": {
    "ExecuteTime": {
     "end_time": "2018-11-11T11:57:47.352774Z",
     "start_time": "2018-11-11T11:57:47.142936Z"
    }
   },
   "outputs": [
    {
     "name": "stdout",
     "output_type": "stream",
     "text": [
      "Mean Squared Error : 871.5538315613273\n",
      "y = 98.1850X + -3.5705\n",
      "Mean Squared Error : 873.5893931140517\n",
      "R^2 : 0.9276333932633335\n"
     ]
    },
    {
     "data": {
      "image/png": "[encoded data removed]",
      "text/plain": [
       "<Figure size 432x288 with 1 Axes>"
      ]
     },
     "metadata": {
      "needs_background": "light"
     },
     "output_type": "display_data"
    }
   ],
   "source": [
    "model = LinearRegression()\n",
    "model.fit(X_train, y_train)\n",
    "\n",
    "y_pred = model.predict(X_train)\n",
    "\n",
    "mse = mean_squared_error(y_train, y_pred)\n",
    "print(\"Mean Squared Error :\",mse)\n",
    "print(\"y = %.4fX + %.4f\"%(float(model.coef_[0]),float(model.intercept_)))\n",
    "\n",
    "# training set에 대해 mse가 최소가 되는 w와 b를 찾습니다. w = 39.1679, b = -1.5085\n",
    "\n",
    "y_pred = model.predict(X_test)\n",
    "mse = mean_squared_error(y_test, y_pred)\n",
    "r_square = r2_score(y_test, y_pred)\n",
    "\n",
    "print(\"Mean Squared Error :\",mse)\n",
    "print(\"R^2 :\",r_square)\n",
    "\n",
    "# test set에 대해 mse와 R^2를 구한 결과 다음과 같습니다.\n",
    "# mse = 820.71, R^2 = 0.64\n",
    "\n",
    "plt.scatter(X_test, y_test, c=\"b\")\n",
    "plt.plot(X_test, y_pred, c=\"r\", linewidth=3)\n",
    "plt.legend([\"reg\",\"test\"])\n",
    "plt.show()"
   ]
  },
  {
   "cell_type": "markdown",
   "metadata": {},
   "source": [
    "# Simple Linear Regression with Neural Net\n",
    "\n",
    "- 이번에는 neural net으로 simple linear regression을 구현해보겠습니다."
   ]
  },
  {
   "cell_type": "code",
   "execution_count": 122,
   "metadata": {
    "ExecuteTime": {
     "end_time": "2018-11-11T11:58:03.577533Z",
     "start_time": "2018-11-11T11:58:03.569947Z"
    }
   },
   "outputs": [],
   "source": [
    "# 앞으로 매우 자주 보게 될 코드 블럭입니다.\n",
    "# dataset을 만들고 dataloader로 불러옵니다.\n",
    "\n",
    "from torch.utils.data import Dataset\n",
    "from torch.utils.data import DataLoader\n",
    "\n",
    "class makeData(Dataset):\n",
    "    def __init__(self, X_data, y_data):\n",
    "        self.X_data = X_data\n",
    "        self.y_data = y_data\n",
    "    \n",
    "    # __getitem__은 index번째의 데이터를 출력합니다.\n",
    "    def __getitem__(self, index):\n",
    "        return (self.X_data[index], self.y_data[index])\n",
    "    \n",
    "    # __len_은 dataset의 길이를 출력합니다.\n",
    "    def __len__(self):\n",
    "        return len(self.y_data)\n",
    "\n",
    "train_data = makeData(torch.FloatTensor(X_train), torch.FloatTensor(y_train))\n",
    "test_data = makeData(torch.FloatTensor(X_test), torch.FloatTensor(y_test))"
   ]
  },
  {
   "cell_type": "code",
   "execution_count": 123,
   "metadata": {
    "ExecuteTime": {
     "end_time": "2018-11-11T11:58:04.764816Z",
     "start_time": "2018-11-11T11:58:04.755428Z"
    }
   },
   "outputs": [],
   "source": [
    "class SimpleLinearRegression(nn.Module):\n",
    "    def __init__(self):\n",
    "        super(SimpleLinearRegression, self).__init__()\n",
    "        \n",
    "        self.Layer_1 = nn.Linear(1, 10)\n",
    "        self.Layer_2 = nn.Linear(10, 5)\n",
    "        self.Layer_3 = nn.Linear(5, 1)\n",
    "        self.ReLU = nn.ReLU()\n",
    "        \n",
    "    def forward(self, inputs):\n",
    "        \n",
    "        x = self.Layer_1(inputs)\n",
    "        x = self.ReLU(x)\n",
    "        x = self.Layer_2(x)\n",
    "        x = self.ReLU(x)\n",
    "        x = self.Layer_3(x)\n",
    "        \n",
    "        return x\n",
    "    \n",
    "    def predict(self, test_input):\n",
    "        \n",
    "        x = self.Layer_1(test_input)\n",
    "        x = self.ReLU(x)\n",
    "        x = self.Layer_2(x)\n",
    "        x = self.ReLU(x)\n",
    "        x = self.Layer_3(x)\n",
    "        \n",
    "        return x"
   ]
  },
  {
   "cell_type": "code",
   "execution_count": 124,
   "metadata": {
    "ExecuteTime": {
     "end_time": "2018-11-11T11:58:09.510096Z",
     "start_time": "2018-11-11T11:58:07.272096Z"
    }
   },
   "outputs": [
    {
     "name": "stdout",
     "output_type": "stream",
     "text": [
      "tensor(10298.4551, grad_fn=<MseLossBackward>)\n",
      "tensor(3032.3181, grad_fn=<MseLossBackward>)\n",
      "tensor(1955.3837, grad_fn=<MseLossBackward>)\n",
      "tensor(1545.3525, grad_fn=<MseLossBackward>)\n",
      "tensor(1344.6794, grad_fn=<MseLossBackward>)\n",
      "tensor(1231.8848, grad_fn=<MseLossBackward>)\n",
      "tensor(1158.8967, grad_fn=<MseLossBackward>)\n",
      "tensor(864.2641, grad_fn=<MseLossBackward>)\n",
      "tensor(856.3328, grad_fn=<MseLossBackward>)\n",
      "tensor(855.6118, grad_fn=<MseLossBackward>)\n",
      "tensor(855.2235, grad_fn=<MseLossBackward>)\n",
      "tensor(855.1954, grad_fn=<MseLossBackward>)\n",
      "tensor(854.8104, grad_fn=<MseLossBackward>)\n",
      "tensor(854.5906, grad_fn=<MseLossBackward>)\n",
      "tensor(854.6533, grad_fn=<MseLossBackward>)\n",
      "tensor(854.6075, grad_fn=<MseLossBackward>)\n",
      "tensor(854.3730, grad_fn=<MseLossBackward>)\n",
      "tensor(854.2280, grad_fn=<MseLossBackward>)\n",
      "tensor(854.1955, grad_fn=<MseLossBackward>)\n",
      "tensor(854.1774, grad_fn=<MseLossBackward>)\n",
      "tensor(853.9096, grad_fn=<MseLossBackward>)\n",
      "tensor(853.9836, grad_fn=<MseLossBackward>)\n",
      "tensor(853.6335, grad_fn=<MseLossBackward>)\n",
      "tensor(853.5717, grad_fn=<MseLossBackward>)\n",
      "tensor(853.3012, grad_fn=<MseLossBackward>)\n",
      "tensor(853.2557, grad_fn=<MseLossBackward>)\n",
      "tensor(852.7920, grad_fn=<MseLossBackward>)\n",
      "tensor(852.5510, grad_fn=<MseLossBackward>)\n",
      "tensor(852.3552, grad_fn=<MseLossBackward>)\n",
      "tensor(852.3287, grad_fn=<MseLossBackward>)\n"
     ]
    }
   ],
   "source": [
    "# training set을 3000번 정도 학습시켜보겠습니다.\n",
    "\n",
    "EPOCHS = 3000\n",
    "BATCH_SIZE = 200\n",
    "\n",
    "model = SimpleLinearRegression()\n",
    "criterion = nn.MSELoss()\n",
    "optimizer = optim.SGD(model.parameters(), lr=0.001, momentum = 0.9)\n",
    "\n",
    "# data loader가 train_data에서 batch_size만큼 shuffle해가며 뽑아옵니다.\n",
    "# 여기서는 200개를 1000번 뽑아오겠죠?\n",
    "\n",
    "train_batch = DataLoader(dataset=train_data, batch_size=BATCH_SIZE, shuffle=True)\n",
    "\n",
    "for epoch in range(EPOCHS):\n",
    "    \n",
    "    # X_batch와 y_batch로 train_batch의 데이터를 불러옵니다.\n",
    "    # makeData에서 x_train과 y_train을 지정한 바 있습니다.\n",
    "    # dataloader에 이 train_data를 넣었고 DataLoader를 통해 x_train과 y_train을 bath_size만큼 불러옵니다.\n",
    "    \n",
    "    for X_batch, y_batch in train_batch:\n",
    "        \n",
    "        y_pred = model(X_batch)\n",
    "        \n",
    "        model.zero_grad()\n",
    "        \n",
    "        loss = criterion(y_pred, y_batch.unsqueeze(1))\n",
    "        loss.backward()\n",
    "        \n",
    "        optimizer.step()\n",
    "    \n",
    "    if epoch % 100 == 0:\n",
    "        print(loss)"
   ]
  },
  {
   "cell_type": "code",
   "execution_count": 125,
   "metadata": {
    "ExecuteTime": {
     "end_time": "2018-11-11T11:58:16.868221Z",
     "start_time": "2018-11-11T11:58:16.860286Z"
    }
   },
   "outputs": [
    {
     "name": "stdout",
     "output_type": "stream",
     "text": [
      "Mean Squared Error : 906.1998893211654\n",
      "R^2 : 0.9249319971920105\n"
     ]
    }
   ],
   "source": [
    "test_loader = DataLoader(dataset=test_data, batch_size=1)\n",
    "\n",
    "test_y_pred = []\n",
    "\n",
    "for X_batch, y_batch in test_loader:\n",
    "    \n",
    "    y_pred = model.predict(X_batch)\n",
    "    test_y_pred.append(y_pred.item())\n",
    "\n",
    "mse = mean_squared_error(y_test, test_y_pred)\n",
    "r_square = r2_score(y_test, test_y_pred)\n",
    "\n",
    "print(\"Mean Squared Error :\",mse)\n",
    "print(\"R^2 :\",r_square)"
   ]
  },
  {
   "cell_type": "code",
   "execution_count": null,
   "metadata": {},
   "outputs": [],
   "source": []
  }
 ],
 "metadata": {
  "kernelspec": {
   "display_name": "Python 3",
   "language": "python",
   "name": "python3"
  },
  "language_info": {
   "codemirror_mode": {
    "name": "ipython",
    "version": 3
   },
   "file_extension": ".py",
   "mimetype": "text/x-python",
   "name": "python",
   "nbconvert_exporter": "python",
   "pygments_lexer": "ipython3",
   "version": "3.7.0"
  },
  "latex_envs": {
   "LaTeX_envs_menu_present": true,
   "autoclose": false,
   "autocomplete": true,
   "bibliofile": "biblio.bib",
   "cite_by": "apalike",
   "current_citInitial": 1,
   "eqLabelWithNumbers": true,
   "eqNumInitial": 1,
   "hotkeys": {
    "equation": "Ctrl-E",
    "itemize": "Ctrl-I"
   },
   "labels_anchors": false,
   "latex_user_defs": false,
   "report_style_numbering": false,
   "user_envs_cfg": false
  },
  "toc": {
   "base_numbering": 1,
   "nav_menu": {},
   "number_sections": false,
   "sideBar": true,
   "skip_h1_title": false,
   "title_cell": "Table of Contents",
   "title_sidebar": "Contents",
   "toc_cell": false,
   "toc_position": {},
   "toc_section_display": true,
   "toc_window_display": false
  },
  "varInspector": {
   "cols": {
    "lenName": 16,
    "lenType": 16,
    "lenVar": 40
   },
   "kernels_config": {
    "python": {
     "delete_cmd_postfix": "",
     "delete_cmd_prefix": "del ",
     "library": "var_list.py",
     "varRefreshCmd": "print(var_dic_list())"
    },
    "r": {
     "delete_cmd_postfix": ") ",
     "delete_cmd_prefix": "rm(",
     "library": "var_list.r",
     "varRefreshCmd": "cat(var_dic_list()) "
    }
   },
   "types_to_exclude": [
    "module",
    "function",
    "builtin_function_or_method",
    "instance",
    "_Feature"
   ],
   "window_display": false
  }
 },
 "nbformat": 4,
 "nbformat_minor": 2
}
