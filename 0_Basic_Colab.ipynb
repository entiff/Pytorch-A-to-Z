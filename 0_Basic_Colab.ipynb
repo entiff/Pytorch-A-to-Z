{
  "nbformat": 4,
  "nbformat_minor": 0,
  "metadata": {
    "colab": {
      "name": "0_Basic_Colab",
      "version": "0.3.2",
      "provenance": [],
      "collapsed_sections": [],
      "include_colab_link": true
    },
    "kernelspec": {
      "name": "python3",
      "display_name": "Python 3"
    }
  },
  "cells": [
    {
      "cell_type": "markdown",
      "metadata": {
        "id": "view-in-github",
        "colab_type": "text"
      },
      "source": [
        "<a href=\"https://colab.research.google.com/github/shwksl101/Pytorch-A-to-Z/blob/gangsss/0_Basic_Colab.ipynb\" target=\"_parent\"><img src=\"https://colab.research.google.com/assets/colab-badge.svg\" alt=\"Open In Colab\"/></a>"
      ]
    },
    {
      "metadata": {
        "id": "Q6pwNpV2X1UW",
        "colab_type": "text"
      },
      "cell_type": "markdown",
      "source": [
        "[변성윤님 블로그](https://zzsza.github.io/data/2018/08/30/google-colab/#ui)와 구글에서 제공하는 [Hello,Colaboratory](https://colab.research.google.com/notebooks/welcome.ipynb?hl=ko#scrollTo=nGXrezT31pvC)을 참고해서 작성했습니다 "
      ]
    },
    {
      "metadata": {
        "id": "MbmDuV53Byot",
        "colab_type": "text"
      },
      "cell_type": "markdown",
      "source": [
        "- 구글 Colaboratory(줄여서 colab)는 사이트에서설치가 필요 없이 완전히 클라우드에서 실행되는 무료 Jupyter노트 환경입니다.\n",
        "\n",
        "- colab노트는 해당 사용자의 구글 드라이브에 저장됩니다\n",
        "\n",
        "- colab 사용시 유의 해야하는 점은 작성한 코드가 전용 가상 머신에서 실행되며 가상 머신이 한동안 유휴 상태가 되면 재활용되며 시스템에 설정된 최대 수명이 적용됩니다\n",
        "\n",
        "- Colaboratory의 UI를 통해 지속적 또는 장기간 계산을 실행하고자 하는 사용자는 로컬 런타임을 사용하는 것이 좋습니다.\n",
        "\n",
        "- 로컬환경 혹은 google compute Engine 인스턴스 런타임에 연결하는 방법은  [여기](https://research.google.com/colaboratory/local-runtimes.html)에서 참고하시길 바랍니다.\n",
        "\n",
        "- 그 외의 기초적인 부분들은 위의 두 사이트에 잘 설명이 되어있으니 참고하시길 바랍니다.\n",
        "\n",
        "\n",
        "\n"
      ]
    },
    {
      "metadata": {
        "id": "5gsCEotYZWGj",
        "colab_type": "text"
      },
      "cell_type": "markdown",
      "source": [
        "1. Pytorch 설치\n",
        "\n",
        "  - pytorch는 설치가 되어있지 않기 때문에 설치를 해줘야한다\n",
        "  - \n",
        "```\n",
        "import torch\n",
        "``` 실행 시  ModuleNotFoundError: No module named 'torch'라는 에러와 함께 INSTALL TORCH버튼이 생성된다. 여기서 INSTALL TORCH버튼을 눌러 스니펫 코드\n",
        "(재사용 가능한 소스코드(검색가능) - colab에 설치되지 않은 설치 코드 검색시 유용)를 받아서 아래와 같이 설치를 한다.\n"
      ]
    },
    {
      "metadata": {
        "id": "fj230W1CaGWu",
        "colab_type": "code",
        "colab": {}
      },
      "cell_type": "code",
      "source": [
        "# http://pytorch.org/\n",
        "from os.path import exists\n",
        "from wheel.pep425tags import get_abbr_impl, get_impl_ver, get_abi_tag\n",
        "platform = '{}{}-{}'.format(get_abbr_impl(), get_impl_ver(), get_abi_tag())\n",
        "cuda_output = !ldconfig -p|grep cudart.so|sed -e 's/.*\\.\\([0-9]*\\)\\.\\([0-9]*\\)$/cu\\1\\2/'\n",
        "accelerator = cuda_output[0] if exists('/dev/nvidia0') else 'cpu'\n",
        "\n",
        "!pip install -q http://download.pytorch.org/whl/{accelerator}/torch-0.4.1-{platform}-linux_x86_64.whl torchvision\n",
        "import torch"
      ],
      "execution_count": 0,
      "outputs": []
    },
    {
      "metadata": {
        "id": "7BCvK-NlcURW",
        "colab_type": "text"
      },
      "cell_type": "markdown",
      "source": [
        "2. GPU 사용\n",
        "  - Colab의 가장 큰 장점 GPU 사용 가능\n",
        "  \n",
        "  - 처음 노트북 켰을 때는 기본설정이 GPU를 사용하지 않게 되어있으므로 설정을 해줘야한다.\n",
        "  \n",
        "  - 런타임 - 런타임 유형변경 - 하드웨어 가속기 변경 - GPU/TPU 선택"
      ]
    },
    {
      "metadata": {
        "id": "SRgacNWrjfQN",
        "colab_type": "code",
        "colab": {}
      },
      "cell_type": "code",
      "source": [
        "#GPU사용 확인\n",
        "if torch.cuda.is_available():\n",
        "  print('yes')"
      ],
      "execution_count": 0,
      "outputs": []
    },
    {
      "metadata": {
        "id": "bwNJEuG9ezhi",
        "colab_type": "text"
      },
      "cell_type": "markdown",
      "source": [
        "3. github에 있는 코드 바로 colab에서 실행해보기\n",
        "\n",
        "   - github의 코드를 바로 colab환경으로 가져와서 실행을 해볼수 있다.\n",
        "   \n",
        "   - 주소를 아래 처럼 바꿔주면 된다.\n",
        "   https://github.com/~~\n",
        "   을\n",
        "   https://colab.research.google.com/github/~~\n",
        "   로 바꿔주면된다.\n",
        "   \n",
        "   - (예시)\n",
        "   https://github.com/shwksl101/Pytorch-A-to-Z/blob/master/1_Pytorch_Basic/1_torch_package.ipynb\n",
        "   의 코드를 colab에서 실행하고 싶다면  https://colab.research.google.com/github/shwksl101/Pytorch-A-to-Z/blob/master/1_Pytorch_Basic/1_torch_package.ipynb\n",
        "   로 바꿔주면 된다.\n",
        "   "
      ]
    },
    {
      "metadata": {
        "id": "fbH78Iqnh1yC",
        "colab_type": "text"
      },
      "cell_type": "markdown",
      "source": [
        "4. github에 코드 바로 올리기\n",
        "\n",
        "  - 파일 - Github에 사본 저장하기 \n",
        "  \n",
        "  - 자신의 깃허브와 연결 해놓으면 바로 업로드 가능합니다.\n",
        "  \n",
        "  - branch도 설정가능!"
      ]
    },
    {
      "metadata": {
        "id": "qjw7gBSHidtq",
        "colab_type": "text"
      },
      "cell_type": "markdown",
      "source": [
        "5. Colab 공유하기\n",
        "  - 프로젝트 진행이나 많은 사람들과 같이 진행해야하는 코드 진행시 노트북을 쉽게 공유할 수 있다.\n",
        "  - Colab 우측 상단에 보면 공유버튼이 있다 이를 눌러 공유를 진행하면 된다.\n",
        "  - 공유하는 방법으로 세가지가 있는데 수정 가능, 댓글 작성가능, 보기 가능이 있다.\n",
        "  - 보기 가능으로 공유 받은 경우 파일 - 드라이브에 사본저장을 통해 코드 수정이 가능하다\n",
        "  - Google drive에서도 위와 같은 과정을 할 수 있다."
      ]
    },
    {
      "metadata": {
        "id": "uYiOOfxLApwk",
        "colab_type": "text"
      },
      "cell_type": "markdown",
      "source": [
        "6. Google Cloud와 연동하기\n",
        "\n",
        "  1)   colab에서 구글 드라이브 권한 획득\n",
        "     * 아래  명령어 복사 붙여넣어 실행한다\n",
        "     \n",
        "     *  그 후 나오는 URL로 접속한 후, verification code 입력(2번)\n",
        "     \n",
        "     * 참고한 변성윤님 자료에 따르면 매번 이 작업을 해줘야 하면 일정시간 이후에는 끊긴다고 적혀있다.\n",
        "\n"
      ]
    },
    {
      "metadata": {
        "id": "_uiVoFWNk1Cc",
        "colab_type": "code",
        "colab": {}
      },
      "cell_type": "code",
      "source": [
        "!apt-get install -y -qq software-properties-common python-software-properties module-init-tools\n",
        "!add-apt-repository -y ppa:alessandro-strada/ppa 2>&1 > /dev/null\n",
        "!apt-get update -qq 2>&1 > /dev/null\n",
        "!apt-get -y install -qq google-drive-ocamlfuse fuse\n",
        "from google.colab import auth\n",
        "auth.authenticate_user()\n",
        "\n",
        "from oauth2client.client import GoogleCredentials\n",
        "creds = GoogleCredentials.get_application_default()\n",
        "\n",
        "import getpass\n",
        "!google-drive-ocamlfuse -headless -id={creds.client_id} -secret={creds.client_secret} < /dev/null 2>&1 | grep URL\n",
        "\n",
        "vcode = getpass.getpass()\n",
        "!echo {vcode} | google-drive-ocamlfuse -headless -id={creds.client_id} -secret={creds.client_secret}"
      ],
      "execution_count": 0,
      "outputs": []
    },
    {
      "metadata": {
        "id": "RQ5mZzSVCJRJ",
        "colab_type": "text"
      },
      "cell_type": "markdown",
      "source": [
        "2) colab에서 drive란 폴더를 만든 후, 우리 구글 드라이브의 root와 drive 폴더를 연결(mount)"
      ]
    },
    {
      "metadata": {
        "id": "yv21bO6qcTlF",
        "colab_type": "code",
        "colab": {
          "base_uri": "https://localhost:8080/",
          "height": 91
        },
        "outputId": "9d8a9fee-efaf-4392-af52-92d4235b2972"
      },
      "cell_type": "code",
      "source": [
        "!mkdir -p drive\n",
        "!google-drive-ocamlfuse drive\n",
        "!cd drive/data; ls-al;"
      ],
      "execution_count": 7,
      "outputs": [
        {
          "output_type": "stream",
          "text": [
            "fuse: mountpoint is not empty\n",
            "fuse: if you are sure this is safe, use the 'nonempty' mount option\n",
            "/bin/bash: line 0: cd: drive/data: No such file or directory\n",
            "/bin/bash: ls-al: command not found\n"
          ],
          "name": "stdout"
        }
      ]
    },
    {
      "metadata": {
        "id": "-a-bxhBODgXe",
        "colab_type": "text"
      },
      "cell_type": "markdown",
      "source": [
        "3) Google 드라이브의 Classroom이란 파일로 디렉토리 변경을 할려면 os 라이브러리를 이용하면 된다!"
      ]
    },
    {
      "metadata": {
        "id": "qAes3I4vCtwC",
        "colab_type": "code",
        "colab": {}
      },
      "cell_type": "code",
      "source": [
        "import os\n",
        "os.chdir('./drive/Classroom')"
      ],
      "execution_count": 0,
      "outputs": []
    },
    {
      "metadata": {
        "id": "th5VpIVSZ1r_",
        "colab_type": "text"
      },
      "cell_type": "markdown",
      "source": [
        "4)Google drive와 로컬을 연동시켜 로컬에 있는 파일 바로 Colab에서 이용하기\n",
        "\n",
        "- 파일을 하나씩 업로드하지 말고 대량의 파일을 한꺼번에 업로드하고 싶은 경우\n",
        "- [백업  및 동기화](https://www.google.com/drive/download/)를 사용해 로컬과 구글 드라이브를 연동\n",
        "  - Dropbox처럼 내 로컬의 특정 폴더를 연동\n",
        "  - Window 10 환경에서 진행\n",
        "  \n",
        " - 위의 사이트에 들어가 백업 및 동기화 다운로드\n",
        " - 환경설정에서 동기화 할 폴더 선택\n",
        " \n",
        "  -  ![동기화할 폴더 선택](https://github.com/shwksl101/Pytorch-A-to-Z/issues/2#issue-378128769)"
      ]
    },
    {
      "metadata": {
        "id": "uz7EE6A2PIU8",
        "colab_type": "code",
        "colab": {}
      },
      "cell_type": "code",
      "source": [
        "os.chdir('./drive/종다리')"
      ],
      "execution_count": 0,
      "outputs": []
    }
  ]
}